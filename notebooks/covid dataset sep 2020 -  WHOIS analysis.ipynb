{
 "cells": [
  {
   "cell_type": "markdown",
   "metadata": {},
   "source": [
    "# covid dataset sep 2020 -  WHOIS analysis"
   ]
  },
  {
   "cell_type": "code",
   "execution_count": 1,
   "metadata": {},
   "outputs": [],
   "source": [
    "import json\n",
    "import pandas as pd\n",
    "from collections import Counter\n",
    "from collections import defaultdict as ddict\n",
    "from matplotlib import pyplot as plt\n",
    "import seaborn as sns\n",
    "import tldextract"
   ]
  },
  {
   "cell_type": "code",
   "execution_count": 2,
   "metadata": {},
   "outputs": [],
   "source": [
    "domain_scan_whois_pahth = '/export/sec02/nabeel/ucsc/Vaccine_Disinfo/data/covid_resources/oxford-vaccine-article-domains-shared-on-twitter.csv.whois'\n",
    "domain_scan_whois = list(map(json.loads,open(domain_scan_whois_pahth,'r').readlines()))"
   ]
  },
  {
   "cell_type": "code",
   "execution_count": 3,
   "metadata": {},
   "outputs": [],
   "source": [
    "def transform(x):\n",
    "    for y in x:\n",
    "        for i in y.get('data'):\n",
    "            yield {\n",
    "            'Domain Name':  i.get('attributes').get('whois_map').get('Domain Name'),\n",
    "            'Creation Date':i.get('attributes').get('whois_map').get('Creation Date'),\n",
    "            'expires':      i.get('attributes').get('whois_map').get('expires'),\n",
    "            'Changed':      i.get('attributes').get('whois_map').get('Changed'),\n",
    "            'Name Server':  i.get('attributes').get('whois_map').get('Name Server'),\n",
    "            'nic-hdl-br':   i.get('attributes').get('whois_map').get('nic-hdl-br'),\n",
    "            'status':       i.get('attributes').get('whois_map').get('status'),\n",
    "            'registrant_country':i.get('attributes').get('registrant_country')\n",
    "            }"
   ]
  },
  {
   "cell_type": "code",
   "execution_count": 4,
   "metadata": {},
   "outputs": [],
   "source": [
    "df = pd.DataFrame(list(transform(domain_scan_whois)))"
   ]
  },
  {
   "cell_type": "code",
   "execution_count": 5,
   "metadata": {},
   "outputs": [
    {
     "data": {
      "text/html": [
       "<div>\n",
       "<style scoped>\n",
       "    .dataframe tbody tr th:only-of-type {\n",
       "        vertical-align: middle;\n",
       "    }\n",
       "\n",
       "    .dataframe tbody tr th {\n",
       "        vertical-align: top;\n",
       "    }\n",
       "\n",
       "    .dataframe thead th {\n",
       "        text-align: right;\n",
       "    }\n",
       "</style>\n",
       "<table border=\"1\" class=\"dataframe\">\n",
       "  <thead>\n",
       "    <tr style=\"text-align: right;\">\n",
       "      <th></th>\n",
       "      <th>Domain Name</th>\n",
       "      <th>Creation Date</th>\n",
       "      <th>expires</th>\n",
       "      <th>Changed</th>\n",
       "      <th>Name Server</th>\n",
       "      <th>nic-hdl-br</th>\n",
       "      <th>status</th>\n",
       "      <th>registrant_country</th>\n",
       "    </tr>\n",
       "  </thead>\n",
       "  <tbody>\n",
       "    <tr>\n",
       "      <th>0</th>\n",
       "      <td>None</td>\n",
       "      <td>None</td>\n",
       "      <td>None</td>\n",
       "      <td>None</td>\n",
       "      <td>None</td>\n",
       "      <td>None</td>\n",
       "      <td>None</td>\n",
       "      <td>None</td>\n",
       "    </tr>\n",
       "    <tr>\n",
       "      <th>1</th>\n",
       "      <td>forbes.com.br</td>\n",
       "      <td>19991201 #227065 | 20020619</td>\n",
       "      <td>20201201</td>\n",
       "      <td>20181011 | 20191031</td>\n",
       "      <td>leah.ns.cloudflare.com | stan.ns.cloudflare.com</td>\n",
       "      <td>NAB51</td>\n",
       "      <td>published</td>\n",
       "      <td>None</td>\n",
       "    </tr>\n",
       "    <tr>\n",
       "      <th>2</th>\n",
       "      <td>forbes.com.br</td>\n",
       "      <td>19991201 #227065 | 20020619</td>\n",
       "      <td>20201201</td>\n",
       "      <td>20181011 | 20191031</td>\n",
       "      <td>leah.ns.cloudflare.com | stan.ns.cloudflare.com</td>\n",
       "      <td>NAB51</td>\n",
       "      <td>published</td>\n",
       "      <td>BR</td>\n",
       "    </tr>\n",
       "    <tr>\n",
       "      <th>3</th>\n",
       "      <td>forbes.com.br</td>\n",
       "      <td>19991201 #227065 | 20020619</td>\n",
       "      <td>20191201</td>\n",
       "      <td>20181011 | 20181030</td>\n",
       "      <td>becky.ns.cloudflare.com | elliot.ns.cloudflare...</td>\n",
       "      <td>NAB51</td>\n",
       "      <td>published</td>\n",
       "      <td>BR</td>\n",
       "    </tr>\n",
       "    <tr>\n",
       "      <th>4</th>\n",
       "      <td>forbes.com.br</td>\n",
       "      <td>19991201 #227065 | 20020619</td>\n",
       "      <td>20191201</td>\n",
       "      <td>20181011 | 20181030</td>\n",
       "      <td>becky.ns.cloudflare.com | elliot.ns.cloudflare...</td>\n",
       "      <td>NAB51</td>\n",
       "      <td>published</td>\n",
       "      <td>None</td>\n",
       "    </tr>\n",
       "  </tbody>\n",
       "</table>\n",
       "</div>"
      ],
      "text/plain": [
       "     Domain Name                Creation Date   expires              Changed  \\\n",
       "0           None                         None      None                 None   \n",
       "1  forbes.com.br  19991201 #227065 | 20020619  20201201  20181011 | 20191031   \n",
       "2  forbes.com.br  19991201 #227065 | 20020619  20201201  20181011 | 20191031   \n",
       "3  forbes.com.br  19991201 #227065 | 20020619  20191201  20181011 | 20181030   \n",
       "4  forbes.com.br  19991201 #227065 | 20020619  20191201  20181011 | 20181030   \n",
       "\n",
       "                                         Name Server nic-hdl-br     status  \\\n",
       "0                                               None       None       None   \n",
       "1    leah.ns.cloudflare.com | stan.ns.cloudflare.com      NAB51  published   \n",
       "2    leah.ns.cloudflare.com | stan.ns.cloudflare.com      NAB51  published   \n",
       "3  becky.ns.cloudflare.com | elliot.ns.cloudflare...      NAB51  published   \n",
       "4  becky.ns.cloudflare.com | elliot.ns.cloudflare...      NAB51  published   \n",
       "\n",
       "  registrant_country  \n",
       "0               None  \n",
       "1               None  \n",
       "2                 BR  \n",
       "3                 BR  \n",
       "4               None  "
      ]
     },
     "execution_count": 5,
     "metadata": {},
     "output_type": "execute_result"
    }
   ],
   "source": [
    "df.head(5)"
   ]
  },
  {
   "cell_type": "code",
   "execution_count": 6,
   "metadata": {},
   "outputs": [],
   "source": [
    "NS = set()\n",
    "NS_count = list()\n",
    "for i in df['Name Server'].unique():\n",
    "    if i:\n",
    "        data = i.split('|')\n",
    "        for y in data:\n",
    "            ns = tldextract.extract(y)\n",
    "            NS.add('{}.{}'.format(ns.domain,ns.suffix))\n",
    "            NS_count.append('{}.{}'.format(ns.domain,ns.suffix))            "
   ]
  },
  {
   "cell_type": "code",
   "execution_count": 7,
   "metadata": {},
   "outputs": [
    {
     "name": "stdout",
     "output_type": "stream",
     "text": [
      "Number of unique NS 2521\n"
     ]
    }
   ],
   "source": [
    "print(\"Number of unique NS {}\".format(len(NS)))"
   ]
  },
  {
   "cell_type": "code",
   "execution_count": 8,
   "metadata": {},
   "outputs": [],
   "source": [
    "NSDF=ddict(list)\n",
    "for ns, count in list(sorted(Counter(NS_count).items(), key=lambda x: x[1],reverse=True)):\n",
    "                   NSDF['NS'].append(ns)\n",
    "                   NSDF['count'].append(count)\n",
    "NSDF = pd.DataFrame(NSDF)"
   ]
  },
  {
   "cell_type": "code",
   "execution_count": 9,
   "metadata": {},
   "outputs": [
    {
     "data": {
      "text/html": [
       "<div>\n",
       "<style scoped>\n",
       "    .dataframe tbody tr th:only-of-type {\n",
       "        vertical-align: middle;\n",
       "    }\n",
       "\n",
       "    .dataframe tbody tr th {\n",
       "        vertical-align: top;\n",
       "    }\n",
       "\n",
       "    .dataframe thead th {\n",
       "        text-align: right;\n",
       "    }\n",
       "</style>\n",
       "<table border=\"1\" class=\"dataframe\">\n",
       "  <thead>\n",
       "    <tr style=\"text-align: right;\">\n",
       "      <th></th>\n",
       "      <th>NS</th>\n",
       "      <th>count</th>\n",
       "    </tr>\n",
       "  </thead>\n",
       "  <tbody>\n",
       "    <tr>\n",
       "      <th>0</th>\n",
       "      <td>CLOUDFLARE.COM</td>\n",
       "      <td>1681</td>\n",
       "    </tr>\n",
       "    <tr>\n",
       "      <th>1</th>\n",
       "      <td>cloudflare.com</td>\n",
       "      <td>1062</td>\n",
       "    </tr>\n",
       "    <tr>\n",
       "      <th>2</th>\n",
       "      <td>AKAM.NET</td>\n",
       "      <td>409</td>\n",
       "    </tr>\n",
       "    <tr>\n",
       "      <th>3</th>\n",
       "      <td>akam.net</td>\n",
       "      <td>239</td>\n",
       "    </tr>\n",
       "    <tr>\n",
       "      <th>4</th>\n",
       "      <td>NSONE.NET</td>\n",
       "      <td>214</td>\n",
       "    </tr>\n",
       "    <tr>\n",
       "      <th>5</th>\n",
       "      <td>DYNECT.NET</td>\n",
       "      <td>200</td>\n",
       "    </tr>\n",
       "    <tr>\n",
       "      <th>6</th>\n",
       "      <td>nsone.net</td>\n",
       "      <td>149</td>\n",
       "    </tr>\n",
       "    <tr>\n",
       "      <th>7</th>\n",
       "      <td>DOMAINCONTROL.COM</td>\n",
       "      <td>138</td>\n",
       "    </tr>\n",
       "    <tr>\n",
       "      <th>8</th>\n",
       "      <td>dynect.net</td>\n",
       "      <td>131</td>\n",
       "    </tr>\n",
       "    <tr>\n",
       "      <th>9</th>\n",
       "      <td>domaincontrol.com</td>\n",
       "      <td>102</td>\n",
       "    </tr>\n",
       "  </tbody>\n",
       "</table>\n",
       "</div>"
      ],
      "text/plain": [
       "                  NS  count\n",
       "0     CLOUDFLARE.COM   1681\n",
       "1     cloudflare.com   1062\n",
       "2           AKAM.NET    409\n",
       "3           akam.net    239\n",
       "4          NSONE.NET    214\n",
       "5         DYNECT.NET    200\n",
       "6          nsone.net    149\n",
       "7  DOMAINCONTROL.COM    138\n",
       "8         dynect.net    131\n",
       "9  domaincontrol.com    102"
      ]
     },
     "execution_count": 9,
     "metadata": {},
     "output_type": "execute_result"
    }
   ],
   "source": [
    "NSDF.head(10)"
   ]
  },
  {
   "cell_type": "code",
   "execution_count": 10,
   "metadata": {},
   "outputs": [
    {
     "data": {
      "text/html": [
       "<div>\n",
       "<style scoped>\n",
       "    .dataframe tbody tr th:only-of-type {\n",
       "        vertical-align: middle;\n",
       "    }\n",
       "\n",
       "    .dataframe tbody tr th {\n",
       "        vertical-align: top;\n",
       "    }\n",
       "\n",
       "    .dataframe thead th {\n",
       "        text-align: right;\n",
       "    }\n",
       "</style>\n",
       "<table border=\"1\" class=\"dataframe\">\n",
       "  <thead>\n",
       "    <tr style=\"text-align: right;\">\n",
       "      <th></th>\n",
       "      <th>NS</th>\n",
       "      <th>count</th>\n",
       "    </tr>\n",
       "  </thead>\n",
       "  <tbody>\n",
       "    <tr>\n",
       "      <th>2511</th>\n",
       "      <td>radarcirebon.net</td>\n",
       "      <td>1</td>\n",
       "    </tr>\n",
       "    <tr>\n",
       "      <th>2512</th>\n",
       "      <td>AURORADNS.EU</td>\n",
       "      <td>1</td>\n",
       "    </tr>\n",
       "    <tr>\n",
       "      <th>2513</th>\n",
       "      <td>AURORADNS.NL</td>\n",
       "      <td>1</td>\n",
       "    </tr>\n",
       "    <tr>\n",
       "      <th>2514</th>\n",
       "      <td>AURORADNS.INFO</td>\n",
       "      <td>1</td>\n",
       "    </tr>\n",
       "    <tr>\n",
       "      <th>2515</th>\n",
       "      <td>auroradns.eu</td>\n",
       "      <td>1</td>\n",
       "    </tr>\n",
       "    <tr>\n",
       "      <th>2516</th>\n",
       "      <td>auroradns.nl</td>\n",
       "      <td>1</td>\n",
       "    </tr>\n",
       "    <tr>\n",
       "      <th>2517</th>\n",
       "      <td>auroradns.info</td>\n",
       "      <td>1</td>\n",
       "    </tr>\n",
       "    <tr>\n",
       "      <th>2518</th>\n",
       "      <td>ignum.cz</td>\n",
       "      <td>1</td>\n",
       "    </tr>\n",
       "    <tr>\n",
       "      <th>2519</th>\n",
       "      <td>J,_�^u\u0000.</td>\n",
       "      <td>1</td>\n",
       "    </tr>\n",
       "    <tr>\n",
       "      <th>2520</th>\n",
       "      <td>��\u0000��K\u000e�o�\u0000\u0018\u00058\\t�.</td>\n",
       "      <td>1</td>\n",
       "    </tr>\n",
       "  </tbody>\n",
       "</table>\n",
       "</div>"
      ],
      "text/plain": [
       "                      NS  count\n",
       "2511    radarcirebon.net      1\n",
       "2512        AURORADNS.EU      1\n",
       "2513        AURORADNS.NL      1\n",
       "2514      AURORADNS.INFO      1\n",
       "2515        auroradns.eu      1\n",
       "2516        auroradns.nl      1\n",
       "2517      auroradns.info      1\n",
       "2518            ignum.cz      1\n",
       "2519            J,_�^u\u0000.      1\n",
       "2520  ��\u0000��K\u000e�o�\u0000\u0018\u00058\\t�.      1"
      ]
     },
     "execution_count": 10,
     "metadata": {},
     "output_type": "execute_result"
    }
   ],
   "source": [
    "NSDF.tail(10)"
   ]
  },
  {
   "cell_type": "code",
   "execution_count": 11,
   "metadata": {},
   "outputs": [
    {
     "data": {
      "text/plain": [
       "Domain Name           Name Server                                                                                                                                  \n",
       "100MILEFREEPRESS.NET  PDNS03.DOMAINCONTROL.COM | PDNS04.DOMAINCONTROL.COM                                                                                              3\n",
       "100e7.com.br          ns1.dreamhost.com | ns2.dreamhost.com | ns3.dreamhost.com                                                                                        3\n",
       "102NUEVE.COM          NS1.BLUEHOST.COM | NS2.BLUEHOST.COM | ns1.bluehost.com | ns2.bluehost.com                                                                        1\n",
       "                      NS1MPZ.NAME.COM | NS2GTX.NAME.COM | NS3FLT.NAME.COM | NS4BHT.NAME.COM | ns1mpz.name.com | ns2gtx.name.com | ns3flt.name.com | ns4bht.name.com    1\n",
       "1053RNB.COM           NS1.WORDPRESS.COM | NS2.WORDPRESS.COM                                                                                                            3\n",
       "                                                                                                                                                                      ..\n",
       "zdravezpravy.cz       ns1.ignum.com | ns2.ignum.cz (217.31.48.201, 2001:1ab0:7e1e:2::5)                                                                                1\n",
       "zipix.com.br          ns844.hostgator.com.br | ns845.hostgator.com.br                                                                                                  2\n",
       "zoom.us               ns-1137.awsdns-14.org | ns-1772.awsdns-29.co.uk | ns-387.awsdns-48.com | ns-888.awsdns-47.net                                                    6\n",
       "zoomit.ir             b.ns.arvancdn.com | u.ns.arvancdn.com                                                                                                            1\n",
       "                      marek.ns.cloudflare.com | val.ns.cloudflare.com                                                                                                  1\n",
       "Length: 5772, dtype: int64"
      ]
     },
     "execution_count": 11,
     "metadata": {},
     "output_type": "execute_result"
    }
   ],
   "source": [
    "df.groupby(['Domain Name','Name Server']).size()"
   ]
  },
  {
   "cell_type": "code",
   "execution_count": null,
   "metadata": {},
   "outputs": [],
   "source": []
  },
  {
   "cell_type": "code",
   "execution_count": null,
   "metadata": {},
   "outputs": [],
   "source": []
  }
 ],
 "metadata": {
  "kernelspec": {
   "display_name": "Python 3",
   "language": "python",
   "name": "python3"
  },
  "language_info": {
   "codemirror_mode": {
    "name": "ipython",
    "version": 3
   },
   "file_extension": ".py",
   "mimetype": "text/x-python",
   "name": "python",
   "nbconvert_exporter": "python",
   "pygments_lexer": "ipython3",
   "version": "3.8.5"
  }
 },
 "nbformat": 4,
 "nbformat_minor": 4
}
