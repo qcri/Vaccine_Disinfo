{
 "cells": [
  {
   "cell_type": "markdown",
   "metadata": {},
   "source": [
    "# covid dataset sep 2020 -  WHOIS analysis"
   ]
  },
  {
   "cell_type": "code",
   "execution_count": 1,
   "metadata": {},
   "outputs": [],
   "source": [
    "import json\n",
    "import pandas as pd\n",
    "from collections import Counter\n",
    "from collections import defaultdict as ddict\n",
    "from matplotlib import pyplot as plt\n",
    "import seaborn as sns"
   ]
  },
  {
   "cell_type": "code",
   "execution_count": 3,
   "metadata": {},
   "outputs": [],
   "source": [
    "domain_scan_whois_pahth = '/export/sec02/nabeel/ucsc/Vaccine_Disinfo/data/covid_resources/oxford-vaccine-article-domains-shared-on-twitter.csv.whois'\n",
    "domain_scan_whois = list(map(json.loads,open(domain_scan_report_pahth,'r').readlines()))"
   ]
  },
  {
   "cell_type": "code",
   "execution_count": 6,
   "metadata": {},
   "outputs": [
    {
     "data": {
      "text/plain": [
       "{'data': [{'attributes': {'first_seen_date': 1582615724,\n",
       "    'whois_map': {'% cert.br, http': 'c9cebf270ce558d1s@cert.br'}},\n",
       "   'id': 'e39bf06a75ebc064db3d3d639a3dbb6a44243b4ec44f5d9ce15994f96d21d994',\n",
       "   'links': {'self': 'https://www.virustotal.com/api/v3/whois/e39bf06a75ebc064db3d3d639a3dbb6a44243b4ec44f5d9ce15994f96d21d994'},\n",
       "   'type': 'whois'},\n",
       "  {'attributes': {'first_seen_date': 1573192170,\n",
       "    'whois_map': {'% cert.br, http': 'c9cebf270ce558d1s@cert.br',\n",
       "     'Changed': '20181011 | 20191031',\n",
       "     'Creation Date': '19991201 #227065 | 20020619',\n",
       "     'Domain Name': 'forbes.com.br',\n",
       "     'Name Server': 'leah.ns.cloudflare.com | stan.ns.cloudflare.com',\n",
       "     'expires': '20201201',\n",
       "     'nic-hdl-br': 'NAB51',\n",
       "     'status': 'published'}},\n",
       "   'id': '1c84b39fb8766c3348473a4709edc6491e89e199868a1cf5ab8b7fe79db98001',\n",
       "   'links': {'self': 'https://www.virustotal.com/api/v3/whois/1c84b39fb8766c3348473a4709edc6491e89e199868a1cf5ab8b7fe79db98001'},\n",
       "   'type': 'whois'},\n",
       "  {'attributes': {'first_seen_date': 1573089764,\n",
       "    'registrant_country': 'BR',\n",
       "    'whois_map': {'% cert.br, http': 'c9cebf270ce558d1s@cert.br',\n",
       "     'Changed': '20181011 | 20191031',\n",
       "     'Creation Date': '19991201 #227065 | 20020619',\n",
       "     'Domain Name': 'forbes.com.br',\n",
       "     'Name Server': 'leah.ns.cloudflare.com | stan.ns.cloudflare.com',\n",
       "     'Registrant Country': 'BR',\n",
       "     'Registrant E-mail': '2a76389bda44ed78s@nameaction.com',\n",
       "     'expires': '20201201',\n",
       "     'nic-hdl-br': 'NAB51',\n",
       "     'status': 'published'}},\n",
       "   'id': 'dee4b68009e120d227198b2f47c7818639c0299f7142d51399c285189079d55f',\n",
       "   'links': {'self': 'https://www.virustotal.com/api/v3/whois/dee4b68009e120d227198b2f47c7818639c0299f7142d51399c285189079d55f'},\n",
       "   'type': 'whois'},\n",
       "  {'attributes': {'first_seen_date': 1571043059,\n",
       "    'registrant_country': 'BR',\n",
       "    'whois_map': {'% cert.br, http': 'c9cebf270ce558d1s@cert.br',\n",
       "     'Changed': '20181011 | 20181030',\n",
       "     'Creation Date': '19991201 #227065 | 20020619',\n",
       "     'Domain Name': 'forbes.com.br',\n",
       "     'Name Server': 'becky.ns.cloudflare.com | elliot.ns.cloudflare.com',\n",
       "     'Registrant Country': 'BR',\n",
       "     'Registrant E-mail': '2a76389bda44ed78s@nameaction.com',\n",
       "     'expires': '20191201',\n",
       "     'nic-hdl-br': 'NAB51',\n",
       "     'status': 'published'}},\n",
       "   'id': '40f3e47224bdb3070e5043ad72a406a84bbc711c2481a6ec36b32209f6dc8b99',\n",
       "   'links': {'self': 'https://www.virustotal.com/api/v3/whois/40f3e47224bdb3070e5043ad72a406a84bbc711c2481a6ec36b32209f6dc8b99'},\n",
       "   'type': 'whois'},\n",
       "  {'attributes': {'first_seen_date': 1568936005,\n",
       "    'whois_map': {'% cert.br, http': 'c9cebf270ce558d1s@cert.br',\n",
       "     'Changed': '20181011 | 20181030',\n",
       "     'Creation Date': '19991201 #227065 | 20020619',\n",
       "     'Domain Name': 'forbes.com.br',\n",
       "     'Name Server': 'becky.ns.cloudflare.com | elliot.ns.cloudflare.com',\n",
       "     'expires': '20191201',\n",
       "     'nic-hdl-br': 'NAB51',\n",
       "     'status': 'published'}},\n",
       "   'id': '5e612696cdf1b51918c5a0dc925dbbec336ebf1eca8f7122d7bcebdf0d4ced92',\n",
       "   'links': {'self': 'https://www.virustotal.com/api/v3/whois/5e612696cdf1b51918c5a0dc925dbbec336ebf1eca8f7122d7bcebdf0d4ced92'},\n",
       "   'type': 'whois'}],\n",
       " 'links': {'self': 'https://www.virustotal.com/api/v3/domains/forbes.com.br/historical_whois?limit=10'},\n",
       " 'meta': {'count': 5}}"
      ]
     },
     "execution_count": 6,
     "metadata": {},
     "output_type": "execute_result"
    }
   ],
   "source": [
    "domain_scan_whois[0]"
   ]
  }
 ],
 "metadata": {
  "kernelspec": {
   "display_name": "Python 3",
   "language": "python",
   "name": "python3"
  },
  "language_info": {
   "codemirror_mode": {
    "name": "ipython",
    "version": 3
   },
   "file_extension": ".py",
   "mimetype": "text/x-python",
   "name": "python",
   "nbconvert_exporter": "python",
   "pygments_lexer": "ipython3",
   "version": "3.8.5"
  }
 },
 "nbformat": 4,
 "nbformat_minor": 4
}
