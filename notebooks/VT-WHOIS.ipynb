{
 "cells": [
  {
   "cell_type": "code",
   "execution_count": 1,
   "metadata": {},
   "outputs": [],
   "source": [
    "import json\n",
    "import pandas as pd\n",
    "from collections import Counter\n",
    "from collections import defaultdict as ddict\n",
    "from matplotlib import pyplot as plt\n",
    "import seaborn as sns\n",
    "from tldextract import extract\n",
    "\n",
    "\n",
    "pd.set_option('max_colwidth', 250)"
   ]
  },
  {
   "cell_type": "code",
   "execution_count": 2,
   "metadata": {},
   "outputs": [],
   "source": [
    "domain_scan_report_pahth = '/export/sec02/nabeel/ucsc/Vaccine_Disinfo/data/covid_resources/oxford-vaccine-article-domains-shared-on-twitter.csv.scan.report'\n",
    "domain_scan_report = list(map(json.loads,open(domain_scan_report_pahth,'r').readlines()))"
   ]
  },
  {
   "cell_type": "code",
   "execution_count": 3,
   "metadata": {},
   "outputs": [
    {
     "data": {
      "text/plain": [
       "ExtractResult(subdomain='', domain='forbes', suffix='com.br')"
      ]
     },
     "execution_count": 3,
     "metadata": {},
     "output_type": "execute_result"
    }
   ],
   "source": [
    "extract('https://forbes.com.br/')"
   ]
  },
  {
   "cell_type": "code",
   "execution_count": 4,
   "metadata": {},
   "outputs": [],
   "source": [
    "def DF(df):\n",
    "    data = []\n",
    "    for i in df:\n",
    "        try:\n",
    "            domain = extract(i['url'])\n",
    "            if domain.subdomain == '':\n",
    "                data.append({'domain':'{}.{}'.format(domain.domain,domain.suffix),'positives':i['positives']})\n",
    "            else:\n",
    "                data.append({'domain':'{}.{}.{}'.format(domain.subdomain, domain.domain,domain.suffix),'positives':i['positives']})\n",
    "        except:\n",
    "            pass\n",
    "    return pd.DataFrame(data)"
   ]
  },
  {
   "cell_type": "code",
   "execution_count": 5,
   "metadata": {},
   "outputs": [],
   "source": [
    "vt = DF(domain_scan_report)"
   ]
  },
  {
   "cell_type": "code",
   "execution_count": 6,
   "metadata": {},
   "outputs": [
    {
     "data": {
      "text/html": [
       "<div>\n",
       "<style scoped>\n",
       "    .dataframe tbody tr th:only-of-type {\n",
       "        vertical-align: middle;\n",
       "    }\n",
       "\n",
       "    .dataframe tbody tr th {\n",
       "        vertical-align: top;\n",
       "    }\n",
       "\n",
       "    .dataframe thead th {\n",
       "        text-align: right;\n",
       "    }\n",
       "</style>\n",
       "<table border=\"1\" class=\"dataframe\">\n",
       "  <thead>\n",
       "    <tr style=\"text-align: right;\">\n",
       "      <th></th>\n",
       "      <th>domain</th>\n",
       "      <th>positives</th>\n",
       "    </tr>\n",
       "  </thead>\n",
       "  <tbody>\n",
       "    <tr>\n",
       "      <th>0</th>\n",
       "      <td>forbes.com.br</td>\n",
       "      <td>0</td>\n",
       "    </tr>\n",
       "    <tr>\n",
       "      <th>1</th>\n",
       "      <td>google.com</td>\n",
       "      <td>1</td>\n",
       "    </tr>\n",
       "    <tr>\n",
       "      <th>2</th>\n",
       "      <td>xhne.ws</td>\n",
       "      <td>0</td>\n",
       "    </tr>\n",
       "    <tr>\n",
       "      <th>3</th>\n",
       "      <td>nbcnews.com</td>\n",
       "      <td>0</td>\n",
       "    </tr>\n",
       "    <tr>\n",
       "      <th>4</th>\n",
       "      <td>mol.im</td>\n",
       "      <td>0</td>\n",
       "    </tr>\n",
       "  </tbody>\n",
       "</table>\n",
       "</div>"
      ],
      "text/plain": [
       "          domain  positives\n",
       "0  forbes.com.br          0\n",
       "1     google.com          1\n",
       "2        xhne.ws          0\n",
       "3    nbcnews.com          0\n",
       "4         mol.im          0"
      ]
     },
     "execution_count": 6,
     "metadata": {},
     "output_type": "execute_result"
    }
   ],
   "source": [
    "vt.head()"
   ]
  },
  {
   "cell_type": "code",
   "execution_count": 7,
   "metadata": {},
   "outputs": [
    {
     "data": {
      "text/plain": [
       "array([0, 1, 2, 7, 5, 6, 3])"
      ]
     },
     "execution_count": 7,
     "metadata": {},
     "output_type": "execute_result"
    }
   ],
   "source": [
    "vt.positives.unique()"
   ]
  },
  {
   "cell_type": "code",
   "execution_count": 8,
   "metadata": {},
   "outputs": [],
   "source": [
    "domain_scan_whois_pahth = '/export/sec02/nabeel/ucsc/Vaccine_Disinfo/data/covid_resources/oxford-vaccine-article-domains-shared-on-twitter.csv.whois'\n",
    "domain_scan_whois = list(map(json.loads,open(domain_scan_whois_pahth,'r').readlines()))"
   ]
  },
  {
   "cell_type": "code",
   "execution_count": 9,
   "metadata": {},
   "outputs": [],
   "source": [
    "def transform(x):\n",
    "    for y in x:\n",
    "        for i in y.get('data'):\n",
    "            yield {\n",
    "            'Domain Name':  i.get('attributes').get('whois_map').get('Domain Name'),\n",
    "            'Creation Date':i.get('attributes').get('whois_map').get('Creation Date'),\n",
    "            'expires':      i.get('attributes').get('whois_map').get('expires'),\n",
    "            'Changed':      i.get('attributes').get('whois_map').get('Changed'),\n",
    "            'Name Server':  i.get('attributes').get('whois_map').get('Name Server'),\n",
    "            'nic-hdl-br':   i.get('attributes').get('whois_map').get('nic-hdl-br'),\n",
    "            'status':       i.get('attributes').get('whois_map').get('status'),\n",
    "            'registrant_country':i.get('attributes').get('registrant_country')\n",
    "            }"
   ]
  },
  {
   "cell_type": "code",
   "execution_count": 10,
   "metadata": {},
   "outputs": [],
   "source": [
    "whois = pd.DataFrame(list(transform(domain_scan_whois)))"
   ]
  },
  {
   "cell_type": "code",
   "execution_count": 11,
   "metadata": {},
   "outputs": [
    {
     "data": {
      "text/html": [
       "<div>\n",
       "<style scoped>\n",
       "    .dataframe tbody tr th:only-of-type {\n",
       "        vertical-align: middle;\n",
       "    }\n",
       "\n",
       "    .dataframe tbody tr th {\n",
       "        vertical-align: top;\n",
       "    }\n",
       "\n",
       "    .dataframe thead th {\n",
       "        text-align: right;\n",
       "    }\n",
       "</style>\n",
       "<table border=\"1\" class=\"dataframe\">\n",
       "  <thead>\n",
       "    <tr style=\"text-align: right;\">\n",
       "      <th></th>\n",
       "      <th>Domain Name</th>\n",
       "      <th>Creation Date</th>\n",
       "      <th>expires</th>\n",
       "      <th>Changed</th>\n",
       "      <th>Name Server</th>\n",
       "      <th>nic-hdl-br</th>\n",
       "      <th>status</th>\n",
       "      <th>registrant_country</th>\n",
       "    </tr>\n",
       "  </thead>\n",
       "  <tbody>\n",
       "    <tr>\n",
       "      <th>0</th>\n",
       "      <td>None</td>\n",
       "      <td>None</td>\n",
       "      <td>None</td>\n",
       "      <td>None</td>\n",
       "      <td>None</td>\n",
       "      <td>None</td>\n",
       "      <td>None</td>\n",
       "      <td>None</td>\n",
       "    </tr>\n",
       "    <tr>\n",
       "      <th>1</th>\n",
       "      <td>forbes.com.br</td>\n",
       "      <td>19991201 #227065 | 20020619</td>\n",
       "      <td>20201201</td>\n",
       "      <td>20181011 | 20191031</td>\n",
       "      <td>leah.ns.cloudflare.com | stan.ns.cloudflare.com</td>\n",
       "      <td>NAB51</td>\n",
       "      <td>published</td>\n",
       "      <td>None</td>\n",
       "    </tr>\n",
       "    <tr>\n",
       "      <th>2</th>\n",
       "      <td>forbes.com.br</td>\n",
       "      <td>19991201 #227065 | 20020619</td>\n",
       "      <td>20201201</td>\n",
       "      <td>20181011 | 20191031</td>\n",
       "      <td>leah.ns.cloudflare.com | stan.ns.cloudflare.com</td>\n",
       "      <td>NAB51</td>\n",
       "      <td>published</td>\n",
       "      <td>BR</td>\n",
       "    </tr>\n",
       "    <tr>\n",
       "      <th>3</th>\n",
       "      <td>forbes.com.br</td>\n",
       "      <td>19991201 #227065 | 20020619</td>\n",
       "      <td>20191201</td>\n",
       "      <td>20181011 | 20181030</td>\n",
       "      <td>becky.ns.cloudflare.com | elliot.ns.cloudflare.com</td>\n",
       "      <td>NAB51</td>\n",
       "      <td>published</td>\n",
       "      <td>BR</td>\n",
       "    </tr>\n",
       "    <tr>\n",
       "      <th>4</th>\n",
       "      <td>forbes.com.br</td>\n",
       "      <td>19991201 #227065 | 20020619</td>\n",
       "      <td>20191201</td>\n",
       "      <td>20181011 | 20181030</td>\n",
       "      <td>becky.ns.cloudflare.com | elliot.ns.cloudflare.com</td>\n",
       "      <td>NAB51</td>\n",
       "      <td>published</td>\n",
       "      <td>None</td>\n",
       "    </tr>\n",
       "  </tbody>\n",
       "</table>\n",
       "</div>"
      ],
      "text/plain": [
       "     Domain Name                Creation Date   expires              Changed  \\\n",
       "0           None                         None      None                 None   \n",
       "1  forbes.com.br  19991201 #227065 | 20020619  20201201  20181011 | 20191031   \n",
       "2  forbes.com.br  19991201 #227065 | 20020619  20201201  20181011 | 20191031   \n",
       "3  forbes.com.br  19991201 #227065 | 20020619  20191201  20181011 | 20181030   \n",
       "4  forbes.com.br  19991201 #227065 | 20020619  20191201  20181011 | 20181030   \n",
       "\n",
       "                                          Name Server nic-hdl-br     status  \\\n",
       "0                                                None       None       None   \n",
       "1     leah.ns.cloudflare.com | stan.ns.cloudflare.com      NAB51  published   \n",
       "2     leah.ns.cloudflare.com | stan.ns.cloudflare.com      NAB51  published   \n",
       "3  becky.ns.cloudflare.com | elliot.ns.cloudflare.com      NAB51  published   \n",
       "4  becky.ns.cloudflare.com | elliot.ns.cloudflare.com      NAB51  published   \n",
       "\n",
       "  registrant_country  \n",
       "0               None  \n",
       "1               None  \n",
       "2                 BR  \n",
       "3                 BR  \n",
       "4               None  "
      ]
     },
     "execution_count": 11,
     "metadata": {},
     "output_type": "execute_result"
    }
   ],
   "source": [
    "whois.head()"
   ]
  },
  {
   "cell_type": "code",
   "execution_count": 12,
   "metadata": {},
   "outputs": [],
   "source": [
    "DATA1 = ddict(set)\n",
    "DATA2 = ddict(set)\n",
    "data1 = ddict(list)\n",
    "for index, row  in vt.iterrows():\n",
    "    data = whois.loc[whois['Domain Name']==row.domain]\n",
    "    if not data.empty:\n",
    "        for i in data['Name Server']:\n",
    "            try:\n",
    "                nss = i.split('|')\n",
    "                for y in nss:\n",
    "                    ns = extract(y)\n",
    "                    DATA1[row.positives].add('{}.{}'.format(ns.domain,ns.suffix))\n",
    "                    DATA2[row.positives].add(y)\n",
    "                    \n",
    "                    data1[row.positives].append('{}.{}'.format(ns.domain,ns.suffix))\n",
    "                    \n",
    "                    \n",
    "            except:\n",
    "                pass\n",
    "    else:\n",
    "        DATA1[row.positives].add('NO-WHOIS')\n",
    "        DATA2[row.positives].add('NO-WHOIS')\n",
    "        \n",
    "        data1[row.positives].append('NO-WHOIS')          "
   ]
  },
  {
   "cell_type": "code",
   "execution_count": 13,
   "metadata": {},
   "outputs": [],
   "source": [
    "DF_DATA1 = ddict(list)\n",
    "for i in sorted(DATA1.keys()):\n",
    "    DF_DATA1['vt positives'].append(i)\n",
    "    DF_DATA1['ns'].append(','.join(DATA1[i]))\n",
    "DF_DATA1 = pd.DataFrame(DF_DATA1)"
   ]
  },
  {
   "cell_type": "code",
   "execution_count": 14,
   "metadata": {},
   "outputs": [
    {
     "data": {
      "text/html": [
       "<div>\n",
       "<style scoped>\n",
       "    .dataframe tbody tr th:only-of-type {\n",
       "        vertical-align: middle;\n",
       "    }\n",
       "\n",
       "    .dataframe tbody tr th {\n",
       "        vertical-align: top;\n",
       "    }\n",
       "\n",
       "    .dataframe thead th {\n",
       "        text-align: right;\n",
       "    }\n",
       "</style>\n",
       "<table border=\"1\" class=\"dataframe\">\n",
       "  <thead>\n",
       "    <tr style=\"text-align: right;\">\n",
       "      <th></th>\n",
       "      <th>vt positives</th>\n",
       "      <th>ns</th>\n",
       "    </tr>\n",
       "  </thead>\n",
       "  <tbody>\n",
       "    <tr>\n",
       "      <th>0</th>\n",
       "      <td>0</td>\n",
       "      <td>awsdns-02.com,name-services.com,pointerns.com,xadica.cat,srv53.net,domaincontrol.com,e-servidor.com,inet.it,exohosting.cz,dnsimple.com,formatsystem.it,uk.net,awsdns-42.co.uk,intendo.it,awsdns-14.co.uk,styria.com,servidorlatinoamerica.com,skynet.b...</td>\n",
       "    </tr>\n",
       "    <tr>\n",
       "      <th>1</th>\n",
       "      <td>1</td>\n",
       "      <td>awsdns-02.com,awsdns-53.org,domaincontrol.com,metrotvnews.com,cdmon.net,googledomains.com,arubadns.cz,criacaodesiteemsalvador.com.br,awsdns-24.net,arubadns.net,cloudflare.com,technorail.com,awsdns-34.net,awsdns-59.org,awsdns-35.net,gandi.net,dyne...</td>\n",
       "    </tr>\n",
       "    <tr>\n",
       "      <th>2</th>\n",
       "      <td>2</td>\n",
       "      <td>azure-dns.info,awsdns-41.co.uk,NO-WHOIS,domaincontrol.com,cloudflare.com,azure-dns.net,azure-dns.org,iq.pl,awsdns-58.net,hostwindsdns.com,awsdns-19.com,awsdns-07.org,hostthename.com,azure-dns.com</td>\n",
       "    </tr>\n",
       "    <tr>\n",
       "      <th>3</th>\n",
       "      <td>3</td>\n",
       "      <td>NO-WHOIS</td>\n",
       "    </tr>\n",
       "    <tr>\n",
       "      <th>4</th>\n",
       "      <td>5</td>\n",
       "      <td>NO-WHOIS</td>\n",
       "    </tr>\n",
       "    <tr>\n",
       "      <th>5</th>\n",
       "      <td>6</td>\n",
       "      <td>NO-WHOIS</td>\n",
       "    </tr>\n",
       "    <tr>\n",
       "      <th>6</th>\n",
       "      <td>7</td>\n",
       "      <td>NO-WHOIS</td>\n",
       "    </tr>\n",
       "  </tbody>\n",
       "</table>\n",
       "</div>"
      ],
      "text/plain": [
       "   vt positives  \\\n",
       "0             0   \n",
       "1             1   \n",
       "2             2   \n",
       "3             3   \n",
       "4             5   \n",
       "5             6   \n",
       "6             7   \n",
       "\n",
       "                                                                                                                                                                                                                                                          ns  \n",
       "0  awsdns-02.com,name-services.com,pointerns.com,xadica.cat,srv53.net,domaincontrol.com,e-servidor.com,inet.it,exohosting.cz,dnsimple.com,formatsystem.it,uk.net,awsdns-42.co.uk,intendo.it,awsdns-14.co.uk,styria.com,servidorlatinoamerica.com,skynet.b...  \n",
       "1  awsdns-02.com,awsdns-53.org,domaincontrol.com,metrotvnews.com,cdmon.net,googledomains.com,arubadns.cz,criacaodesiteemsalvador.com.br,awsdns-24.net,arubadns.net,cloudflare.com,technorail.com,awsdns-34.net,awsdns-59.org,awsdns-35.net,gandi.net,dyne...  \n",
       "2                                                        azure-dns.info,awsdns-41.co.uk,NO-WHOIS,domaincontrol.com,cloudflare.com,azure-dns.net,azure-dns.org,iq.pl,awsdns-58.net,hostwindsdns.com,awsdns-19.com,awsdns-07.org,hostthename.com,azure-dns.com  \n",
       "3                                                                                                                                                                                                                                                   NO-WHOIS  \n",
       "4                                                                                                                                                                                                                                                   NO-WHOIS  \n",
       "5                                                                                                                                                                                                                                                   NO-WHOIS  \n",
       "6                                                                                                                                                                                                                                                   NO-WHOIS  "
      ]
     },
     "execution_count": 14,
     "metadata": {},
     "output_type": "execute_result"
    }
   ],
   "source": [
    "DF_DATA1"
   ]
  },
  {
   "cell_type": "code",
   "execution_count": 15,
   "metadata": {},
   "outputs": [],
   "source": [
    "DF_DATA2 = ddict(list)\n",
    "for i in sorted(DATA2.keys()):\n",
    "    DF_DATA2['vt positives'].append(i)\n",
    "    DF_DATA2['ns'].append(','.join(DATA2[i]))\n",
    "DF_DATA2 = pd.DataFrame(DF_DATA2)"
   ]
  },
  {
   "cell_type": "code",
   "execution_count": 16,
   "metadata": {},
   "outputs": [
    {
     "data": {
      "text/html": [
       "<div>\n",
       "<style scoped>\n",
       "    .dataframe tbody tr th:only-of-type {\n",
       "        vertical-align: middle;\n",
       "    }\n",
       "\n",
       "    .dataframe tbody tr th {\n",
       "        vertical-align: top;\n",
       "    }\n",
       "\n",
       "    .dataframe thead th {\n",
       "        text-align: right;\n",
       "    }\n",
       "</style>\n",
       "<table border=\"1\" class=\"dataframe\">\n",
       "  <thead>\n",
       "    <tr style=\"text-align: right;\">\n",
       "      <th></th>\n",
       "      <th>vt positives</th>\n",
       "      <th>ns</th>\n",
       "    </tr>\n",
       "  </thead>\n",
       "  <tbody>\n",
       "    <tr>\n",
       "      <th>0</th>\n",
       "      <td>0</td>\n",
       "      <td>ns2.cosmostelevision.pe, ns1.salesforce.com ,rudy.ns.cloudflare.com ,ns1.hostwebmedia.com.br , ns-1832.awsdns-37.co.uk , NS46.DOMAINCONTROL.COM ,NS2738.DIZINC.COM , ns-823.awsdns-38.net,donovan.ns.cloudflare.com ,conrad.ns.cloudflare.com , ns107...</td>\n",
       "    </tr>\n",
       "    <tr>\n",
       "      <th>1</th>\n",
       "      <td>1</td>\n",
       "      <td>ns-1454.awsdns-53.org ,ns-1372.awsdns-43.org ,ivan.ns.cloudflare.com , ns-20.awsdns-02.com , dns3.arubadns.net , ns-795.awsdns-35.net,borges.uol.com.br 200.147.255.105 , ns-cloud-a4.googledomains.com, ns3.p43.dynect.net , ns-1603.awsdns-08.co.uk...</td>\n",
       "    </tr>\n",
       "    <tr>\n",
       "      <th>2</th>\n",
       "      <td>2</td>\n",
       "      <td>ns2.iq.pl ,ns1-08.azure-dns.com , ns2-08.azure-dns.net , htnns8.hostthename.com,ns01.domaincontrol.com ,june.ns.cloudflare.com , ns-982.awsdns-58.net,carol.ns.cloudflare.com , ns02.domaincontrol.com, ns3-08.azure-dns.org , ruben.ns.cloudflare.co...</td>\n",
       "    </tr>\n",
       "    <tr>\n",
       "      <th>3</th>\n",
       "      <td>3</td>\n",
       "      <td>NO-WHOIS</td>\n",
       "    </tr>\n",
       "    <tr>\n",
       "      <th>4</th>\n",
       "      <td>5</td>\n",
       "      <td>NO-WHOIS</td>\n",
       "    </tr>\n",
       "    <tr>\n",
       "      <th>5</th>\n",
       "      <td>6</td>\n",
       "      <td>NO-WHOIS</td>\n",
       "    </tr>\n",
       "    <tr>\n",
       "      <th>6</th>\n",
       "      <td>7</td>\n",
       "      <td>NO-WHOIS</td>\n",
       "    </tr>\n",
       "  </tbody>\n",
       "</table>\n",
       "</div>"
      ],
      "text/plain": [
       "   vt positives  \\\n",
       "0             0   \n",
       "1             1   \n",
       "2             2   \n",
       "3             3   \n",
       "4             5   \n",
       "5             6   \n",
       "6             7   \n",
       "\n",
       "                                                                                                                                                                                                                                                          ns  \n",
       "0   ns2.cosmostelevision.pe, ns1.salesforce.com ,rudy.ns.cloudflare.com ,ns1.hostwebmedia.com.br , ns-1832.awsdns-37.co.uk , NS46.DOMAINCONTROL.COM ,NS2738.DIZINC.COM , ns-823.awsdns-38.net,donovan.ns.cloudflare.com ,conrad.ns.cloudflare.com , ns107...  \n",
       "1   ns-1454.awsdns-53.org ,ns-1372.awsdns-43.org ,ivan.ns.cloudflare.com , ns-20.awsdns-02.com , dns3.arubadns.net , ns-795.awsdns-35.net,borges.uol.com.br 200.147.255.105 , ns-cloud-a4.googledomains.com, ns3.p43.dynect.net , ns-1603.awsdns-08.co.uk...  \n",
       "2   ns2.iq.pl ,ns1-08.azure-dns.com , ns2-08.azure-dns.net , htnns8.hostthename.com,ns01.domaincontrol.com ,june.ns.cloudflare.com , ns-982.awsdns-58.net,carol.ns.cloudflare.com , ns02.domaincontrol.com, ns3-08.azure-dns.org , ruben.ns.cloudflare.co...  \n",
       "3                                                                                                                                                                                                                                                   NO-WHOIS  \n",
       "4                                                                                                                                                                                                                                                   NO-WHOIS  \n",
       "5                                                                                                                                                                                                                                                   NO-WHOIS  \n",
       "6                                                                                                                                                                                                                                                   NO-WHOIS  "
      ]
     },
     "execution_count": 16,
     "metadata": {},
     "output_type": "execute_result"
    }
   ],
   "source": [
    "DF_DATA2"
   ]
  },
  {
   "cell_type": "code",
   "execution_count": 17,
   "metadata": {},
   "outputs": [],
   "source": [
    "DF_DATA1.to_csv('vt-apex-top.csv')\n",
    "DF_DATA2.to_csv('vt-apex-sub.csv')"
   ]
  },
  {
   "cell_type": "code",
   "execution_count": 18,
   "metadata": {},
   "outputs": [],
   "source": [
    "DF_data1 = ddict(list)\n",
    "for i in sorted(data1.keys()):\n",
    "    DF_data1['vt positives'].append(i)\n",
    "    DF_data1['ns'].append(','.join(map(str,Counter(data1[i]).items())))\n",
    "DF_data1 = pd.DataFrame(DF_data1)"
   ]
  },
  {
   "cell_type": "code",
   "execution_count": 19,
   "metadata": {},
   "outputs": [
    {
     "data": {
      "text/html": [
       "<div>\n",
       "<style scoped>\n",
       "    .dataframe tbody tr th:only-of-type {\n",
       "        vertical-align: middle;\n",
       "    }\n",
       "\n",
       "    .dataframe tbody tr th {\n",
       "        vertical-align: top;\n",
       "    }\n",
       "\n",
       "    .dataframe thead th {\n",
       "        text-align: right;\n",
       "    }\n",
       "</style>\n",
       "<table border=\"1\" class=\"dataframe\">\n",
       "  <thead>\n",
       "    <tr style=\"text-align: right;\">\n",
       "      <th></th>\n",
       "      <th>vt positives</th>\n",
       "      <th>ns</th>\n",
       "    </tr>\n",
       "  </thead>\n",
       "  <tbody>\n",
       "    <tr>\n",
       "      <th>0</th>\n",
       "      <td>0</td>\n",
       "      <td>('cloudflare.com', 952),('NO-WHOIS', 4371),('akam.net', 314),('DNSIMPLE.COM', 12),('dnsimple.com', 16),('parking.st', 6),('awsdns-11.org', 4),('awsdns-53.co.uk', 2),('awsdns-33.com', 19),('awsdns-25.net', 11),('ultradns.net', 54),('ultradns.org',...</td>\n",
       "    </tr>\n",
       "    <tr>\n",
       "      <th>1</th>\n",
       "      <td>1</td>\n",
       "      <td>('NO-WHOIS', 86),('nsone.net', 16),('dynect.net', 16),('awsdns-16.com', 4),('awsdns-53.org', 4),('awsdns-08.co.uk', 4),('awsdns-35.net', 4),('awsdns-43.org', 3),('awsdns-24.net', 3),('googledomains.com', 37),('cloudflare.com', 48),('awsdns-59.org...</td>\n",
       "    </tr>\n",
       "    <tr>\n",
       "      <th>2</th>\n",
       "      <td>2</td>\n",
       "      <td>('cloudflare.com', 18),('iq.pl', 6),('NO-WHOIS', 10),('awsdns-07.org', 1),('awsdns-19.com', 1),('awsdns-41.co.uk', 1),('awsdns-58.net', 1),('azure-dns.com', 3),('azure-dns.net', 3),('azure-dns.org', 3),('azure-dns.info', 3),('domaincontrol.com', ...</td>\n",
       "    </tr>\n",
       "    <tr>\n",
       "      <th>3</th>\n",
       "      <td>3</td>\n",
       "      <td>('NO-WHOIS', 3)</td>\n",
       "    </tr>\n",
       "    <tr>\n",
       "      <th>4</th>\n",
       "      <td>5</td>\n",
       "      <td>('NO-WHOIS', 1)</td>\n",
       "    </tr>\n",
       "    <tr>\n",
       "      <th>5</th>\n",
       "      <td>6</td>\n",
       "      <td>('NO-WHOIS', 1)</td>\n",
       "    </tr>\n",
       "    <tr>\n",
       "      <th>6</th>\n",
       "      <td>7</td>\n",
       "      <td>('NO-WHOIS', 1)</td>\n",
       "    </tr>\n",
       "  </tbody>\n",
       "</table>\n",
       "</div>"
      ],
      "text/plain": [
       "   vt positives  \\\n",
       "0             0   \n",
       "1             1   \n",
       "2             2   \n",
       "3             3   \n",
       "4             5   \n",
       "5             6   \n",
       "6             7   \n",
       "\n",
       "                                                                                                                                                                                                                                                          ns  \n",
       "0  ('cloudflare.com', 952),('NO-WHOIS', 4371),('akam.net', 314),('DNSIMPLE.COM', 12),('dnsimple.com', 16),('parking.st', 6),('awsdns-11.org', 4),('awsdns-53.co.uk', 2),('awsdns-33.com', 19),('awsdns-25.net', 11),('ultradns.net', 54),('ultradns.org',...  \n",
       "1  ('NO-WHOIS', 86),('nsone.net', 16),('dynect.net', 16),('awsdns-16.com', 4),('awsdns-53.org', 4),('awsdns-08.co.uk', 4),('awsdns-35.net', 4),('awsdns-43.org', 3),('awsdns-24.net', 3),('googledomains.com', 37),('cloudflare.com', 48),('awsdns-59.org...  \n",
       "2  ('cloudflare.com', 18),('iq.pl', 6),('NO-WHOIS', 10),('awsdns-07.org', 1),('awsdns-19.com', 1),('awsdns-41.co.uk', 1),('awsdns-58.net', 1),('azure-dns.com', 3),('azure-dns.net', 3),('azure-dns.org', 3),('azure-dns.info', 3),('domaincontrol.com', ...  \n",
       "3                                                                                                                                                                                                                                            ('NO-WHOIS', 3)  \n",
       "4                                                                                                                                                                                                                                            ('NO-WHOIS', 1)  \n",
       "5                                                                                                                                                                                                                                            ('NO-WHOIS', 1)  \n",
       "6                                                                                                                                                                                                                                            ('NO-WHOIS', 1)  "
      ]
     },
     "execution_count": 19,
     "metadata": {},
     "output_type": "execute_result"
    }
   ],
   "source": [
    "DF_data1"
   ]
  },
  {
   "cell_type": "code",
   "execution_count": 20,
   "metadata": {},
   "outputs": [],
   "source": [
    "DF_data1.to_csv('summary-vt-whois.csv')"
   ]
  },
  {
   "cell_type": "code",
   "execution_count": 21,
   "metadata": {},
   "outputs": [
    {
     "data": {
      "text/html": [
       "<div>\n",
       "<style scoped>\n",
       "    .dataframe tbody tr th:only-of-type {\n",
       "        vertical-align: middle;\n",
       "    }\n",
       "\n",
       "    .dataframe tbody tr th {\n",
       "        vertical-align: top;\n",
       "    }\n",
       "\n",
       "    .dataframe thead th {\n",
       "        text-align: right;\n",
       "    }\n",
       "</style>\n",
       "<table border=\"1\" class=\"dataframe\">\n",
       "  <thead>\n",
       "    <tr style=\"text-align: right;\">\n",
       "      <th></th>\n",
       "      <th>domain</th>\n",
       "      <th>positives</th>\n",
       "    </tr>\n",
       "  </thead>\n",
       "  <tbody>\n",
       "    <tr>\n",
       "      <th>1755</th>\n",
       "      <td>uttaranchaltoday.com</td>\n",
       "      <td>3</td>\n",
       "    </tr>\n",
       "    <tr>\n",
       "      <th>1860</th>\n",
       "      <td>trsondakika.com</td>\n",
       "      <td>3</td>\n",
       "    </tr>\n",
       "    <tr>\n",
       "      <th>2622</th>\n",
       "      <td>newssummedup.com</td>\n",
       "      <td>3</td>\n",
       "    </tr>\n",
       "  </tbody>\n",
       "</table>\n",
       "</div>"
      ],
      "text/plain": [
       "                    domain  positives\n",
       "1755  uttaranchaltoday.com          3\n",
       "1860       trsondakika.com          3\n",
       "2622      newssummedup.com          3"
      ]
     },
     "execution_count": 21,
     "metadata": {},
     "output_type": "execute_result"
    }
   ],
   "source": [
    "vt.loc[vt.positives==3]"
   ]
  },
  {
   "cell_type": "code",
   "execution_count": 22,
   "metadata": {},
   "outputs": [
    {
     "data": {
      "text/html": [
       "<div>\n",
       "<style scoped>\n",
       "    .dataframe tbody tr th:only-of-type {\n",
       "        vertical-align: middle;\n",
       "    }\n",
       "\n",
       "    .dataframe tbody tr th {\n",
       "        vertical-align: top;\n",
       "    }\n",
       "\n",
       "    .dataframe thead th {\n",
       "        text-align: right;\n",
       "    }\n",
       "</style>\n",
       "<table border=\"1\" class=\"dataframe\">\n",
       "  <thead>\n",
       "    <tr style=\"text-align: right;\">\n",
       "      <th></th>\n",
       "      <th>domain</th>\n",
       "      <th>positives</th>\n",
       "    </tr>\n",
       "  </thead>\n",
       "  <tbody>\n",
       "    <tr>\n",
       "      <th>991</th>\n",
       "      <td>onerazz.com</td>\n",
       "      <td>5</td>\n",
       "    </tr>\n",
       "  </tbody>\n",
       "</table>\n",
       "</div>"
      ],
      "text/plain": [
       "          domain  positives\n",
       "991  onerazz.com          5"
      ]
     },
     "execution_count": 22,
     "metadata": {},
     "output_type": "execute_result"
    }
   ],
   "source": [
    "vt.loc[vt.positives==5]"
   ]
  },
  {
   "cell_type": "code",
   "execution_count": 23,
   "metadata": {},
   "outputs": [
    {
     "data": {
      "text/html": [
       "<div>\n",
       "<style scoped>\n",
       "    .dataframe tbody tr th:only-of-type {\n",
       "        vertical-align: middle;\n",
       "    }\n",
       "\n",
       "    .dataframe tbody tr th {\n",
       "        vertical-align: top;\n",
       "    }\n",
       "\n",
       "    .dataframe thead th {\n",
       "        text-align: right;\n",
       "    }\n",
       "</style>\n",
       "<table border=\"1\" class=\"dataframe\">\n",
       "  <thead>\n",
       "    <tr style=\"text-align: right;\">\n",
       "      <th></th>\n",
       "      <th>domain</th>\n",
       "      <th>positives</th>\n",
       "    </tr>\n",
       "  </thead>\n",
       "  <tbody>\n",
       "    <tr>\n",
       "      <th>1109</th>\n",
       "      <td>goo.su</td>\n",
       "      <td>6</td>\n",
       "    </tr>\n",
       "  </tbody>\n",
       "</table>\n",
       "</div>"
      ],
      "text/plain": [
       "      domain  positives\n",
       "1109  goo.su          6"
      ]
     },
     "execution_count": 23,
     "metadata": {},
     "output_type": "execute_result"
    }
   ],
   "source": [
    "vt.loc[vt.positives==6]"
   ]
  },
  {
   "cell_type": "code",
   "execution_count": 24,
   "metadata": {},
   "outputs": [
    {
     "data": {
      "text/html": [
       "<div>\n",
       "<style scoped>\n",
       "    .dataframe tbody tr th:only-of-type {\n",
       "        vertical-align: middle;\n",
       "    }\n",
       "\n",
       "    .dataframe tbody tr th {\n",
       "        vertical-align: top;\n",
       "    }\n",
       "\n",
       "    .dataframe thead th {\n",
       "        text-align: right;\n",
       "    }\n",
       "</style>\n",
       "<table border=\"1\" class=\"dataframe\">\n",
       "  <thead>\n",
       "    <tr style=\"text-align: right;\">\n",
       "      <th></th>\n",
       "      <th>domain</th>\n",
       "      <th>positives</th>\n",
       "    </tr>\n",
       "  </thead>\n",
       "  <tbody>\n",
       "    <tr>\n",
       "      <th>104</th>\n",
       "      <td>gofirstnews.com</td>\n",
       "      <td>7</td>\n",
       "    </tr>\n",
       "  </tbody>\n",
       "</table>\n",
       "</div>"
      ],
      "text/plain": [
       "              domain  positives\n",
       "104  gofirstnews.com          7"
      ]
     },
     "execution_count": 24,
     "metadata": {},
     "output_type": "execute_result"
    }
   ],
   "source": [
    "vt.loc[vt.positives==7]"
   ]
  },
  {
   "cell_type": "code",
   "execution_count": null,
   "metadata": {},
   "outputs": [],
   "source": []
  }
 ],
 "metadata": {
  "kernelspec": {
   "display_name": "Python 3",
   "language": "python",
   "name": "python3"
  },
  "language_info": {
   "codemirror_mode": {
    "name": "ipython",
    "version": 3
   },
   "file_extension": ".py",
   "mimetype": "text/x-python",
   "name": "python",
   "nbconvert_exporter": "python",
   "pygments_lexer": "ipython3",
   "version": "3.8.5"
  }
 },
 "nbformat": 4,
 "nbformat_minor": 4
}
