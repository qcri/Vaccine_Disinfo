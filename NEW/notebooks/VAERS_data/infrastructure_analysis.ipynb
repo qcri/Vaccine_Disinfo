{
 "cells": [
  {
   "cell_type": "code",
   "execution_count": 1,
   "metadata": {
    "ExecuteTime": {
     "end_time": "2021-10-07T17:36:30.387079Z",
     "start_time": "2021-10-07T17:36:29.051423Z"
    }
   },
   "outputs": [],
   "source": [
    "import numpy as np\n",
    "from  tqdm.notebook import tqdm as tqdm_notebook\n",
    "import pandas as pd\n",
    "from matplotlib import pyplot as plt\n",
    "import seaborn as sns\n",
    "from collections import defaultdict, Counter\n",
    "import json"
   ]
  },
  {
   "cell_type": "code",
   "execution_count": 2,
   "metadata": {
    "ExecuteTime": {
     "end_time": "2021-10-07T17:36:30.393188Z",
     "start_time": "2021-10-07T17:36:30.389550Z"
    }
   },
   "outputs": [],
   "source": [
    "sns.set_style(\"whitegrid\")"
   ]
  },
  {
   "cell_type": "code",
   "execution_count": 3,
   "metadata": {
    "ExecuteTime": {
     "end_time": "2021-10-07T17:36:30.402771Z",
     "start_time": "2021-10-07T17:36:30.395677Z"
    }
   },
   "outputs": [],
   "source": [
    "ALEXA = '/export/sec02/nabeel/MALINFO/alexa_url_map.csv'\n",
    "VT    = '/export/sec02/nabeel/Vaccine_Disinfo/data/oct2021/unique.txt.vt.json'"
   ]
  },
  {
   "cell_type": "markdown",
   "metadata": {
    "ExecuteTime": {
     "start_time": "2021-10-07T15:25:37.711Z"
    }
   },
   "source": [
    "### Alexa Data"
   ]
  },
  {
   "cell_type": "code",
   "execution_count": 4,
   "metadata": {
    "ExecuteTime": {
     "end_time": "2021-10-07T17:36:30.463638Z",
     "start_time": "2021-10-07T17:36:30.405153Z"
    }
   },
   "outputs": [],
   "source": [
    "alexa = pd.read_csv(ALEXA)"
   ]
  },
  {
   "cell_type": "code",
   "execution_count": 5,
   "metadata": {
    "ExecuteTime": {
     "end_time": "2021-10-07T17:36:30.488805Z",
     "start_time": "2021-10-07T17:36:30.465680Z"
    }
   },
   "outputs": [
    {
     "data": {
      "text/html": [
       "<div>\n",
       "<style scoped>\n",
       "    .dataframe tbody tr th:only-of-type {\n",
       "        vertical-align: middle;\n",
       "    }\n",
       "\n",
       "    .dataframe tbody tr th {\n",
       "        vertical-align: top;\n",
       "    }\n",
       "\n",
       "    .dataframe thead th {\n",
       "        text-align: right;\n",
       "    }\n",
       "</style>\n",
       "<table border=\"1\" class=\"dataframe\">\n",
       "  <thead>\n",
       "    <tr style=\"text-align: right;\">\n",
       "      <th></th>\n",
       "      <th>Unnamed: 0</th>\n",
       "      <th>domain</th>\n",
       "      <th>is_apex_in_alexa</th>\n",
       "      <th>rank</th>\n",
       "      <th>url</th>\n",
       "    </tr>\n",
       "  </thead>\n",
       "  <tbody>\n",
       "    <tr>\n",
       "      <th>0</th>\n",
       "      <td>0</td>\n",
       "      <td>youtu.be</td>\n",
       "      <td>False</td>\n",
       "      <td>-1.00</td>\n",
       "      <td>https://youtu.be/CP8jtrA6EpI</td>\n",
       "    </tr>\n",
       "    <tr>\n",
       "      <th>1</th>\n",
       "      <td>1</td>\n",
       "      <td>medalerts.org</td>\n",
       "      <td>False</td>\n",
       "      <td>-1.00</td>\n",
       "      <td>http://www.medalerts.org/vaersdb/findfield.php...</td>\n",
       "    </tr>\n",
       "    <tr>\n",
       "      <th>2</th>\n",
       "      <td>2</td>\n",
       "      <td>medalerts.org</td>\n",
       "      <td>False</td>\n",
       "      <td>-1.00</td>\n",
       "      <td>http://www.medalerts.org/vaersdb/findfield.php...</td>\n",
       "    </tr>\n",
       "    <tr>\n",
       "      <th>3</th>\n",
       "      <td>3</td>\n",
       "      <td>medalerts.org</td>\n",
       "      <td>False</td>\n",
       "      <td>-1.00</td>\n",
       "      <td>http://www.medalerts.org/vaersdb/findfield.php...</td>\n",
       "    </tr>\n",
       "    <tr>\n",
       "      <th>4</th>\n",
       "      <td>4</td>\n",
       "      <td>fox6now.com</td>\n",
       "      <td>False</td>\n",
       "      <td>-1.00</td>\n",
       "      <td>https://www.fox6now.com/news/senator-johnson-f...</td>\n",
       "    </tr>\n",
       "    <tr>\n",
       "      <th>...</th>\n",
       "      <td>...</td>\n",
       "      <td>...</td>\n",
       "      <td>...</td>\n",
       "      <td>...</td>\n",
       "      <td>...</td>\n",
       "    </tr>\n",
       "    <tr>\n",
       "      <th>16482</th>\n",
       "      <td>16482</td>\n",
       "      <td>dimpenews.com</td>\n",
       "      <td>True</td>\n",
       "      <td>218499.67</td>\n",
       "      <td>https://dimpenews.com/2021/05/08/vaers-27%cf%8...</td>\n",
       "    </tr>\n",
       "    <tr>\n",
       "      <th>16483</th>\n",
       "      <td>16483</td>\n",
       "      <td>dimpenews.com</td>\n",
       "      <td>True</td>\n",
       "      <td>218499.67</td>\n",
       "      <td>http://dimpenews.com</td>\n",
       "    </tr>\n",
       "    <tr>\n",
       "      <th>16484</th>\n",
       "      <td>16484</td>\n",
       "      <td>newsorbit.com</td>\n",
       "      <td>True</td>\n",
       "      <td>229489.97</td>\n",
       "      <td>https://newsorbit.com/news/corona-vaccine-is-s...</td>\n",
       "    </tr>\n",
       "    <tr>\n",
       "      <th>16485</th>\n",
       "      <td>16485</td>\n",
       "      <td>zums.ac.ir</td>\n",
       "      <td>True</td>\n",
       "      <td>243115.97</td>\n",
       "      <td>https://zums.ac.ir//journal/article-1-6197-en....</td>\n",
       "    </tr>\n",
       "    <tr>\n",
       "      <th>16486</th>\n",
       "      <td>16486</td>\n",
       "      <td>s.com</td>\n",
       "      <td>True</td>\n",
       "      <td>259666.16</td>\n",
       "      <td>http://s.com/2021-04-30-baby-dies-pfizer-covid...</td>\n",
       "    </tr>\n",
       "  </tbody>\n",
       "</table>\n",
       "<p>16487 rows × 5 columns</p>\n",
       "</div>"
      ],
      "text/plain": [
       "       Unnamed: 0         domain  is_apex_in_alexa       rank  \\\n",
       "0               0       youtu.be             False      -1.00   \n",
       "1               1  medalerts.org             False      -1.00   \n",
       "2               2  medalerts.org             False      -1.00   \n",
       "3               3  medalerts.org             False      -1.00   \n",
       "4               4    fox6now.com             False      -1.00   \n",
       "...           ...            ...               ...        ...   \n",
       "16482       16482  dimpenews.com              True  218499.67   \n",
       "16483       16483  dimpenews.com              True  218499.67   \n",
       "16484       16484  newsorbit.com              True  229489.97   \n",
       "16485       16485     zums.ac.ir              True  243115.97   \n",
       "16486       16486          s.com              True  259666.16   \n",
       "\n",
       "                                                     url  \n",
       "0                           https://youtu.be/CP8jtrA6EpI  \n",
       "1      http://www.medalerts.org/vaersdb/findfield.php...  \n",
       "2      http://www.medalerts.org/vaersdb/findfield.php...  \n",
       "3      http://www.medalerts.org/vaersdb/findfield.php...  \n",
       "4      https://www.fox6now.com/news/senator-johnson-f...  \n",
       "...                                                  ...  \n",
       "16482  https://dimpenews.com/2021/05/08/vaers-27%cf%8...  \n",
       "16483                               http://dimpenews.com  \n",
       "16484  https://newsorbit.com/news/corona-vaccine-is-s...  \n",
       "16485  https://zums.ac.ir//journal/article-1-6197-en....  \n",
       "16486  http://s.com/2021-04-30-baby-dies-pfizer-covid...  \n",
       "\n",
       "[16487 rows x 5 columns]"
      ]
     },
     "execution_count": 5,
     "metadata": {},
     "output_type": "execute_result"
    }
   ],
   "source": [
    "alexa"
   ]
  },
  {
   "cell_type": "code",
   "execution_count": 6,
   "metadata": {
    "ExecuteTime": {
     "end_time": "2021-10-07T17:36:30.508294Z",
     "start_time": "2021-10-07T17:36:30.490609Z"
    }
   },
   "outputs": [
    {
     "name": "stdout",
     "output_type": "stream",
     "text": [
      "Number of unique Urls 16487\n",
      "Number of unique FQDNS/APEX 2885\n"
     ]
    }
   ],
   "source": [
    "print('Number of unique Urls {}'.format(alexa.url.unique().shape[0]))\n",
    "print('Number of unique FQDNS/APEX {}'.format(alexa.domain.unique().shape[0]))"
   ]
  },
  {
   "cell_type": "markdown",
   "metadata": {},
   "source": [
    "#### Alexa unranked domain/urls"
   ]
  },
  {
   "cell_type": "code",
   "execution_count": 7,
   "metadata": {
    "ExecuteTime": {
     "end_time": "2021-10-07T17:36:30.547402Z",
     "start_time": "2021-10-07T17:36:30.510474Z"
    }
   },
   "outputs": [
    {
     "name": "stdout",
     "output_type": "stream",
     "text": [
      "Number of unique unranked Urls 7591\n",
      "Number of unique unranked FQDNS/APEX 2096\n"
     ]
    },
    {
     "data": {
      "text/html": [
       "<div>\n",
       "<style scoped>\n",
       "    .dataframe tbody tr th:only-of-type {\n",
       "        vertical-align: middle;\n",
       "    }\n",
       "\n",
       "    .dataframe tbody tr th {\n",
       "        vertical-align: top;\n",
       "    }\n",
       "\n",
       "    .dataframe thead th {\n",
       "        text-align: right;\n",
       "    }\n",
       "</style>\n",
       "<table border=\"1\" class=\"dataframe\">\n",
       "  <thead>\n",
       "    <tr style=\"text-align: right;\">\n",
       "      <th></th>\n",
       "      <th>Unnamed: 0</th>\n",
       "      <th>domain</th>\n",
       "      <th>is_apex_in_alexa</th>\n",
       "      <th>rank</th>\n",
       "      <th>url</th>\n",
       "    </tr>\n",
       "  </thead>\n",
       "  <tbody>\n",
       "    <tr>\n",
       "      <th>0</th>\n",
       "      <td>0</td>\n",
       "      <td>youtu.be</td>\n",
       "      <td>False</td>\n",
       "      <td>-1.0</td>\n",
       "      <td>https://youtu.be/CP8jtrA6EpI</td>\n",
       "    </tr>\n",
       "    <tr>\n",
       "      <th>1</th>\n",
       "      <td>1</td>\n",
       "      <td>medalerts.org</td>\n",
       "      <td>False</td>\n",
       "      <td>-1.0</td>\n",
       "      <td>http://www.medalerts.org/vaersdb/findfield.php...</td>\n",
       "    </tr>\n",
       "    <tr>\n",
       "      <th>2</th>\n",
       "      <td>2</td>\n",
       "      <td>medalerts.org</td>\n",
       "      <td>False</td>\n",
       "      <td>-1.0</td>\n",
       "      <td>http://www.medalerts.org/vaersdb/findfield.php...</td>\n",
       "    </tr>\n",
       "    <tr>\n",
       "      <th>3</th>\n",
       "      <td>3</td>\n",
       "      <td>medalerts.org</td>\n",
       "      <td>False</td>\n",
       "      <td>-1.0</td>\n",
       "      <td>http://www.medalerts.org/vaersdb/findfield.php...</td>\n",
       "    </tr>\n",
       "    <tr>\n",
       "      <th>4</th>\n",
       "      <td>4</td>\n",
       "      <td>fox6now.com</td>\n",
       "      <td>False</td>\n",
       "      <td>-1.0</td>\n",
       "      <td>https://www.fox6now.com/news/senator-johnson-f...</td>\n",
       "    </tr>\n",
       "    <tr>\n",
       "      <th>...</th>\n",
       "      <td>...</td>\n",
       "      <td>...</td>\n",
       "      <td>...</td>\n",
       "      <td>...</td>\n",
       "      <td>...</td>\n",
       "    </tr>\n",
       "    <tr>\n",
       "      <th>7586</th>\n",
       "      <td>7586</td>\n",
       "      <td>thewashingtonstandard.com</td>\n",
       "      <td>False</td>\n",
       "      <td>-1.0</td>\n",
       "      <td>https://thewashingtonstandard.com/3005-deaths-...</td>\n",
       "    </tr>\n",
       "    <tr>\n",
       "      <th>7587</th>\n",
       "      <td>7587</td>\n",
       "      <td>thewashingtonstandard.com</td>\n",
       "      <td>False</td>\n",
       "      <td>-1.0</td>\n",
       "      <td>https://thewashingtonstandard.com/cdc-vaers-de...</td>\n",
       "    </tr>\n",
       "    <tr>\n",
       "      <th>7588</th>\n",
       "      <td>7588</td>\n",
       "      <td>thevaccinereaction.org</td>\n",
       "      <td>False</td>\n",
       "      <td>-1.0</td>\n",
       "      <td>https://thevaccinereaction.org/2021/03/healthy...</td>\n",
       "    </tr>\n",
       "    <tr>\n",
       "      <th>7589</th>\n",
       "      <td>7589</td>\n",
       "      <td>swprs.org</td>\n",
       "      <td>False</td>\n",
       "      <td>-1.0</td>\n",
       "      <td>https://swprs.org/covid-vaccines-deaths/</td>\n",
       "    </tr>\n",
       "    <tr>\n",
       "      <th>7590</th>\n",
       "      <td>7590</td>\n",
       "      <td>thevaccinereaction.org</td>\n",
       "      <td>False</td>\n",
       "      <td>-1.0</td>\n",
       "      <td>https://thevaccinereaction.org/2020/01/only-on...</td>\n",
       "    </tr>\n",
       "  </tbody>\n",
       "</table>\n",
       "<p>7591 rows × 5 columns</p>\n",
       "</div>"
      ],
      "text/plain": [
       "      Unnamed: 0                     domain  is_apex_in_alexa  rank  \\\n",
       "0              0                   youtu.be             False  -1.0   \n",
       "1              1              medalerts.org             False  -1.0   \n",
       "2              2              medalerts.org             False  -1.0   \n",
       "3              3              medalerts.org             False  -1.0   \n",
       "4              4                fox6now.com             False  -1.0   \n",
       "...          ...                        ...               ...   ...   \n",
       "7586        7586  thewashingtonstandard.com             False  -1.0   \n",
       "7587        7587  thewashingtonstandard.com             False  -1.0   \n",
       "7588        7588     thevaccinereaction.org             False  -1.0   \n",
       "7589        7589                  swprs.org             False  -1.0   \n",
       "7590        7590     thevaccinereaction.org             False  -1.0   \n",
       "\n",
       "                                                    url  \n",
       "0                          https://youtu.be/CP8jtrA6EpI  \n",
       "1     http://www.medalerts.org/vaersdb/findfield.php...  \n",
       "2     http://www.medalerts.org/vaersdb/findfield.php...  \n",
       "3     http://www.medalerts.org/vaersdb/findfield.php...  \n",
       "4     https://www.fox6now.com/news/senator-johnson-f...  \n",
       "...                                                 ...  \n",
       "7586  https://thewashingtonstandard.com/3005-deaths-...  \n",
       "7587  https://thewashingtonstandard.com/cdc-vaers-de...  \n",
       "7588  https://thevaccinereaction.org/2021/03/healthy...  \n",
       "7589           https://swprs.org/covid-vaccines-deaths/  \n",
       "7590  https://thevaccinereaction.org/2020/01/only-on...  \n",
       "\n",
       "[7591 rows x 5 columns]"
      ]
     },
     "metadata": {},
     "output_type": "display_data"
    }
   ],
   "source": [
    "unrank = alexa.loc[alexa.is_apex_in_alexa==False].reset_index(drop=True)\n",
    "print('Number of unique unranked Urls {}'.format(unrank.url.unique().shape[0]))\n",
    "print('Number of unique unranked FQDNS/APEX {}'.format(unrank.domain.unique().shape[0]))\n",
    "display(unrank)"
   ]
  },
  {
   "cell_type": "markdown",
   "metadata": {
    "ExecuteTime": {
     "end_time": "2021-10-07T15:36:23.579297Z",
     "start_time": "2021-10-07T15:36:23.574983Z"
    }
   },
   "source": [
    "#### Alexa ranked domain/urls"
   ]
  },
  {
   "cell_type": "code",
   "execution_count": 8,
   "metadata": {
    "ExecuteTime": {
     "end_time": "2021-10-07T17:36:30.576324Z",
     "start_time": "2021-10-07T17:36:30.550753Z"
    }
   },
   "outputs": [
    {
     "name": "stdout",
     "output_type": "stream",
     "text": [
      "Number of unique ranked Urls 8896\n",
      "Number of unique ranked FQDNS/APEX 789\n"
     ]
    },
    {
     "data": {
      "text/html": [
       "<div>\n",
       "<style scoped>\n",
       "    .dataframe tbody tr th:only-of-type {\n",
       "        vertical-align: middle;\n",
       "    }\n",
       "\n",
       "    .dataframe tbody tr th {\n",
       "        vertical-align: top;\n",
       "    }\n",
       "\n",
       "    .dataframe thead th {\n",
       "        text-align: right;\n",
       "    }\n",
       "</style>\n",
       "<table border=\"1\" class=\"dataframe\">\n",
       "  <thead>\n",
       "    <tr style=\"text-align: right;\">\n",
       "      <th></th>\n",
       "      <th>Unnamed: 0</th>\n",
       "      <th>domain</th>\n",
       "      <th>is_apex_in_alexa</th>\n",
       "      <th>rank</th>\n",
       "      <th>url</th>\n",
       "    </tr>\n",
       "  </thead>\n",
       "  <tbody>\n",
       "    <tr>\n",
       "      <th>0</th>\n",
       "      <td>7591</td>\n",
       "      <td>google.com</td>\n",
       "      <td>True</td>\n",
       "      <td>1.00</td>\n",
       "      <td>https://drive.google.com/drive/folders/1lBiMax...</td>\n",
       "    </tr>\n",
       "    <tr>\n",
       "      <th>1</th>\n",
       "      <td>7592</td>\n",
       "      <td>google.com</td>\n",
       "      <td>True</td>\n",
       "      <td>1.00</td>\n",
       "      <td>https://drive.google.com/file/d/1FCLpbPgBu1Kb-...</td>\n",
       "    </tr>\n",
       "    <tr>\n",
       "      <th>2</th>\n",
       "      <td>7593</td>\n",
       "      <td>google.com</td>\n",
       "      <td>True</td>\n",
       "      <td>1.00</td>\n",
       "      <td>https://www.google.com/amp/s/www.kcra.com/amp/...</td>\n",
       "    </tr>\n",
       "    <tr>\n",
       "      <th>3</th>\n",
       "      <td>7594</td>\n",
       "      <td>google.com</td>\n",
       "      <td>True</td>\n",
       "      <td>1.00</td>\n",
       "      <td>https://www.google.com/url?sa=t&amp;source=web&amp;cd=...</td>\n",
       "    </tr>\n",
       "    <tr>\n",
       "      <th>4</th>\n",
       "      <td>7595</td>\n",
       "      <td>google.com</td>\n",
       "      <td>True</td>\n",
       "      <td>1.00</td>\n",
       "      <td>https://www.google.com/search?q=VAERS&amp;rlz=1C1C...</td>\n",
       "    </tr>\n",
       "    <tr>\n",
       "      <th>...</th>\n",
       "      <td>...</td>\n",
       "      <td>...</td>\n",
       "      <td>...</td>\n",
       "      <td>...</td>\n",
       "      <td>...</td>\n",
       "    </tr>\n",
       "    <tr>\n",
       "      <th>8891</th>\n",
       "      <td>16482</td>\n",
       "      <td>dimpenews.com</td>\n",
       "      <td>True</td>\n",
       "      <td>218499.67</td>\n",
       "      <td>https://dimpenews.com/2021/05/08/vaers-27%cf%8...</td>\n",
       "    </tr>\n",
       "    <tr>\n",
       "      <th>8892</th>\n",
       "      <td>16483</td>\n",
       "      <td>dimpenews.com</td>\n",
       "      <td>True</td>\n",
       "      <td>218499.67</td>\n",
       "      <td>http://dimpenews.com</td>\n",
       "    </tr>\n",
       "    <tr>\n",
       "      <th>8893</th>\n",
       "      <td>16484</td>\n",
       "      <td>newsorbit.com</td>\n",
       "      <td>True</td>\n",
       "      <td>229489.97</td>\n",
       "      <td>https://newsorbit.com/news/corona-vaccine-is-s...</td>\n",
       "    </tr>\n",
       "    <tr>\n",
       "      <th>8894</th>\n",
       "      <td>16485</td>\n",
       "      <td>zums.ac.ir</td>\n",
       "      <td>True</td>\n",
       "      <td>243115.97</td>\n",
       "      <td>https://zums.ac.ir//journal/article-1-6197-en....</td>\n",
       "    </tr>\n",
       "    <tr>\n",
       "      <th>8895</th>\n",
       "      <td>16486</td>\n",
       "      <td>s.com</td>\n",
       "      <td>True</td>\n",
       "      <td>259666.16</td>\n",
       "      <td>http://s.com/2021-04-30-baby-dies-pfizer-covid...</td>\n",
       "    </tr>\n",
       "  </tbody>\n",
       "</table>\n",
       "<p>8896 rows × 5 columns</p>\n",
       "</div>"
      ],
      "text/plain": [
       "      Unnamed: 0         domain  is_apex_in_alexa       rank  \\\n",
       "0           7591     google.com              True       1.00   \n",
       "1           7592     google.com              True       1.00   \n",
       "2           7593     google.com              True       1.00   \n",
       "3           7594     google.com              True       1.00   \n",
       "4           7595     google.com              True       1.00   \n",
       "...          ...            ...               ...        ...   \n",
       "8891       16482  dimpenews.com              True  218499.67   \n",
       "8892       16483  dimpenews.com              True  218499.67   \n",
       "8893       16484  newsorbit.com              True  229489.97   \n",
       "8894       16485     zums.ac.ir              True  243115.97   \n",
       "8895       16486          s.com              True  259666.16   \n",
       "\n",
       "                                                    url  \n",
       "0     https://drive.google.com/drive/folders/1lBiMax...  \n",
       "1     https://drive.google.com/file/d/1FCLpbPgBu1Kb-...  \n",
       "2     https://www.google.com/amp/s/www.kcra.com/amp/...  \n",
       "3     https://www.google.com/url?sa=t&source=web&cd=...  \n",
       "4     https://www.google.com/search?q=VAERS&rlz=1C1C...  \n",
       "...                                                 ...  \n",
       "8891  https://dimpenews.com/2021/05/08/vaers-27%cf%8...  \n",
       "8892                               http://dimpenews.com  \n",
       "8893  https://newsorbit.com/news/corona-vaccine-is-s...  \n",
       "8894  https://zums.ac.ir//journal/article-1-6197-en....  \n",
       "8895  http://s.com/2021-04-30-baby-dies-pfizer-covid...  \n",
       "\n",
       "[8896 rows x 5 columns]"
      ]
     },
     "metadata": {},
     "output_type": "display_data"
    }
   ],
   "source": [
    "rank = alexa.loc[alexa.is_apex_in_alexa==True].reset_index(drop=True)\n",
    "print('Number of unique ranked Urls {}'.format(rank.url.unique().shape[0]))\n",
    "print('Number of unique ranked FQDNS/APEX {}'.format(rank.domain.unique().shape[0]))\n",
    "display(rank)"
   ]
  },
  {
   "cell_type": "code",
   "execution_count": 9,
   "metadata": {
    "ExecuteTime": {
     "end_time": "2021-10-07T17:36:30.842996Z",
     "start_time": "2021-10-07T17:36:30.578862Z"
    }
   },
   "outputs": [
    {
     "data": {
      "image/png": "[encoded data removed]",
      "text/plain": [
       "<Figure size 640x480 with 1 Axes>"
      ]
     },
     "metadata": {},
     "output_type": "display_data"
    }
   ],
   "source": [
    "plt.figure(figsize=(8, 6), dpi=80)\n",
    "rank['rank'].plot(kind = 'hist')\n",
    "plt.show()"
   ]
  },
  {
   "cell_type": "markdown",
   "metadata": {},
   "source": [
    "<b>Minium Alexa rank of the data set (High reputed)</b>"
   ]
  },
  {
   "cell_type": "code",
   "execution_count": 10,
   "metadata": {
    "ExecuteTime": {
     "end_time": "2021-10-07T17:36:30.866382Z",
     "start_time": "2021-10-07T17:36:30.845062Z"
    }
   },
   "outputs": [
    {
     "data": {
      "text/html": [
       "<div>\n",
       "<style scoped>\n",
       "    .dataframe tbody tr th:only-of-type {\n",
       "        vertical-align: middle;\n",
       "    }\n",
       "\n",
       "    .dataframe tbody tr th {\n",
       "        vertical-align: top;\n",
       "    }\n",
       "\n",
       "    .dataframe thead th {\n",
       "        text-align: right;\n",
       "    }\n",
       "</style>\n",
       "<table border=\"1\" class=\"dataframe\">\n",
       "  <thead>\n",
       "    <tr style=\"text-align: right;\">\n",
       "      <th></th>\n",
       "      <th>domain</th>\n",
       "      <th>is_apex_in_alexa</th>\n",
       "      <th>rank</th>\n",
       "      <th>url</th>\n",
       "    </tr>\n",
       "  </thead>\n",
       "  <tbody>\n",
       "    <tr>\n",
       "      <th>0</th>\n",
       "      <td>google.com</td>\n",
       "      <td>True</td>\n",
       "      <td>1.0</td>\n",
       "      <td>https://drive.google.com/drive/folders/1lBiMax...</td>\n",
       "    </tr>\n",
       "    <tr>\n",
       "      <th>1</th>\n",
       "      <td>google.com</td>\n",
       "      <td>True</td>\n",
       "      <td>1.0</td>\n",
       "      <td>https://drive.google.com/file/d/1FCLpbPgBu1Kb-...</td>\n",
       "    </tr>\n",
       "    <tr>\n",
       "      <th>2</th>\n",
       "      <td>google.com</td>\n",
       "      <td>True</td>\n",
       "      <td>1.0</td>\n",
       "      <td>https://www.google.com/amp/s/www.kcra.com/amp/...</td>\n",
       "    </tr>\n",
       "    <tr>\n",
       "      <th>3</th>\n",
       "      <td>google.com</td>\n",
       "      <td>True</td>\n",
       "      <td>1.0</td>\n",
       "      <td>https://www.google.com/url?sa=t&amp;source=web&amp;cd=...</td>\n",
       "    </tr>\n",
       "    <tr>\n",
       "      <th>4</th>\n",
       "      <td>google.com</td>\n",
       "      <td>True</td>\n",
       "      <td>1.0</td>\n",
       "      <td>https://www.google.com/search?q=VAERS&amp;rlz=1C1C...</td>\n",
       "    </tr>\n",
       "    <tr>\n",
       "      <th>...</th>\n",
       "      <td>...</td>\n",
       "      <td>...</td>\n",
       "      <td>...</td>\n",
       "      <td>...</td>\n",
       "    </tr>\n",
       "    <tr>\n",
       "      <th>259</th>\n",
       "      <td>google.com</td>\n",
       "      <td>True</td>\n",
       "      <td>1.0</td>\n",
       "      <td>https://drive.google.com/file/d/1MeE7Mz9H9Jice...</td>\n",
       "    </tr>\n",
       "    <tr>\n",
       "      <th>260</th>\n",
       "      <td>google.com</td>\n",
       "      <td>True</td>\n",
       "      <td>1.0</td>\n",
       "      <td>https://www.google.com/amp/s/www.forbes.com/si...</td>\n",
       "    </tr>\n",
       "    <tr>\n",
       "      <th>261</th>\n",
       "      <td>google.com</td>\n",
       "      <td>True</td>\n",
       "      <td>1.0</td>\n",
       "      <td>https://www.google.com/amp/s/www.forbes.com/si...</td>\n",
       "    </tr>\n",
       "    <tr>\n",
       "      <th>262</th>\n",
       "      <td>google.com</td>\n",
       "      <td>True</td>\n",
       "      <td>1.0</td>\n",
       "      <td>https://www.google.com/amp/s/www.forbes.com/si...</td>\n",
       "    </tr>\n",
       "    <tr>\n",
       "      <th>263</th>\n",
       "      <td>google.com</td>\n",
       "      <td>True</td>\n",
       "      <td>1.0</td>\n",
       "      <td>https://drive.google.com/file/d/1N0tMny8Kkl2jj...</td>\n",
       "    </tr>\n",
       "  </tbody>\n",
       "</table>\n",
       "<p>264 rows × 4 columns</p>\n",
       "</div>"
      ],
      "text/plain": [
       "         domain  is_apex_in_alexa  rank  \\\n",
       "0    google.com              True   1.0   \n",
       "1    google.com              True   1.0   \n",
       "2    google.com              True   1.0   \n",
       "3    google.com              True   1.0   \n",
       "4    google.com              True   1.0   \n",
       "..          ...               ...   ...   \n",
       "259  google.com              True   1.0   \n",
       "260  google.com              True   1.0   \n",
       "261  google.com              True   1.0   \n",
       "262  google.com              True   1.0   \n",
       "263  google.com              True   1.0   \n",
       "\n",
       "                                                   url  \n",
       "0    https://drive.google.com/drive/folders/1lBiMax...  \n",
       "1    https://drive.google.com/file/d/1FCLpbPgBu1Kb-...  \n",
       "2    https://www.google.com/amp/s/www.kcra.com/amp/...  \n",
       "3    https://www.google.com/url?sa=t&source=web&cd=...  \n",
       "4    https://www.google.com/search?q=VAERS&rlz=1C1C...  \n",
       "..                                                 ...  \n",
       "259  https://drive.google.com/file/d/1MeE7Mz9H9Jice...  \n",
       "260  https://www.google.com/amp/s/www.forbes.com/si...  \n",
       "261  https://www.google.com/amp/s/www.forbes.com/si...  \n",
       "262  https://www.google.com/amp/s/www.forbes.com/si...  \n",
       "263  https://drive.google.com/file/d/1N0tMny8Kkl2jj...  \n",
       "\n",
       "[264 rows x 4 columns]"
      ]
     },
     "execution_count": 10,
     "metadata": {},
     "output_type": "execute_result"
    }
   ],
   "source": [
    "rank.loc[rank['rank']==min(rank['rank'])][['domain', 'is_apex_in_alexa', 'rank', 'url']]"
   ]
  },
  {
   "cell_type": "markdown",
   "metadata": {},
   "source": [
    "<b>Maximum Alexa rank of the data set (Low reputed)</b>"
   ]
  },
  {
   "cell_type": "code",
   "execution_count": 11,
   "metadata": {
    "ExecuteTime": {
     "end_time": "2021-10-07T17:36:30.875865Z",
     "start_time": "2021-10-07T17:36:30.868384Z"
    }
   },
   "outputs": [
    {
     "data": {
      "text/plain": [
       "domain                                                          s.com\n",
       "is_apex_in_alexa                                                 True\n",
       "rank                                                        259666.16\n",
       "url                 http://s.com/2021-04-30-baby-dies-pfizer-covid...\n",
       "Name: 8895, dtype: object"
      ]
     },
     "execution_count": 11,
     "metadata": {},
     "output_type": "execute_result"
    }
   ],
   "source": [
    "rank.loc[rank['rank'].idxmax()][['domain', 'is_apex_in_alexa', 'rank', 'url']]"
   ]
  },
  {
   "cell_type": "code",
   "execution_count": 12,
   "metadata": {
    "ExecuteTime": {
     "end_time": "2021-10-07T17:36:30.899986Z",
     "start_time": "2021-10-07T17:36:30.877865Z"
    }
   },
   "outputs": [
    {
     "data": {
      "text/plain": [
       "['0000000000000000000000.com',\n",
       " '0000.tk',\n",
       " '000webhostapp.com',\n",
       " '000webhost.com',\n",
       " '000webhosting.ga']"
      ]
     },
     "execution_count": 12,
     "metadata": {},
     "output_type": "execute_result"
    }
   ],
   "source": [
    "#GROUND TRUTH LOAD\n",
    "\n",
    "PUBLIC = '/bad_ip_data/ucsc/Compromised_Domains/csvs and meta data/public_apex_domains'\n",
    "public_domains = list(map(lambda x:x.split('\\n')[0],open(PUBLIC, 'r').readlines()))\n",
    "public_domains[:5]"
   ]
  },
  {
   "cell_type": "markdown",
   "metadata": {
    "ExecuteTime": {
     "end_time": "2021-10-07T15:59:21.420767Z",
     "start_time": "2021-10-07T15:59:21.413727Z"
    }
   },
   "source": [
    "#### filter out public and non public alexa/fqdns from alexa ranked dataset "
   ]
  },
  {
   "cell_type": "code",
   "execution_count": 13,
   "metadata": {
    "ExecuteTime": {
     "end_time": "2021-10-07T17:36:37.408451Z",
     "start_time": "2021-10-07T17:36:30.901933Z"
    }
   },
   "outputs": [
    {
     "data": {
      "application/vnd.jupyter.widget-view+json": {
       "model_id": "a17da612fb9c48b985549a46a23eb0e7",
       "version_major": 2,
       "version_minor": 0
      },
      "text/plain": [
       "0it [00:00, ?it/s]"
      ]
     },
     "metadata": {},
     "output_type": "display_data"
    }
   ],
   "source": [
    "PUBLIC = []\n",
    "PRIVATE = []\n",
    "\n",
    "for index, row in tqdm_notebook(rank.iterrows()):\n",
    "    if row.domain in public_domains:\n",
    "        PUBLIC.append(row)\n",
    "    else:\n",
    "        PRIVATE.append(row)\n",
    "\n",
    "PUBLIC  = pd.DataFrame(PUBLIC).reset_index(drop=True)\n",
    "PRIVATE = pd.DataFrame(PRIVATE).reset_index(drop=True)"
   ]
  },
  {
   "cell_type": "code",
   "execution_count": 14,
   "metadata": {
    "ExecuteTime": {
     "end_time": "2021-10-07T17:36:37.434688Z",
     "start_time": "2021-10-07T17:36:37.411217Z"
    }
   },
   "outputs": [
    {
     "name": "stdout",
     "output_type": "stream",
     "text": [
      "Number of uniqued alexa ranked public apex/fqdns : 7\n",
      "Number of uniqued alexa ranked public URls : 363\n"
     ]
    },
    {
     "data": {
      "text/html": [
       "<div>\n",
       "<style scoped>\n",
       "    .dataframe tbody tr th:only-of-type {\n",
       "        vertical-align: middle;\n",
       "    }\n",
       "\n",
       "    .dataframe tbody tr th {\n",
       "        vertical-align: top;\n",
       "    }\n",
       "\n",
       "    .dataframe thead th {\n",
       "        text-align: right;\n",
       "    }\n",
       "</style>\n",
       "<table border=\"1\" class=\"dataframe\">\n",
       "  <thead>\n",
       "    <tr style=\"text-align: right;\">\n",
       "      <th></th>\n",
       "      <th>Unnamed: 0</th>\n",
       "      <th>domain</th>\n",
       "      <th>is_apex_in_alexa</th>\n",
       "      <th>rank</th>\n",
       "      <th>url</th>\n",
       "    </tr>\n",
       "  </thead>\n",
       "  <tbody>\n",
       "    <tr>\n",
       "      <th>0</th>\n",
       "      <td>8137</td>\n",
       "      <td>facebook.com</td>\n",
       "      <td>True</td>\n",
       "      <td>7.354839</td>\n",
       "      <td>https://www.facebook.com/marcellaterry/posts/1...</td>\n",
       "    </tr>\n",
       "    <tr>\n",
       "      <th>1</th>\n",
       "      <td>8138</td>\n",
       "      <td>facebook.com</td>\n",
       "      <td>True</td>\n",
       "      <td>7.354839</td>\n",
       "      <td>https://m.facebook.com/story.php?story_fbid=51...</td>\n",
       "    </tr>\n",
       "    <tr>\n",
       "      <th>2</th>\n",
       "      <td>8139</td>\n",
       "      <td>facebook.com</td>\n",
       "      <td>True</td>\n",
       "      <td>7.354839</td>\n",
       "      <td>https://www.facebook.com/morgancjonas/videos/1...</td>\n",
       "    </tr>\n",
       "    <tr>\n",
       "      <th>3</th>\n",
       "      <td>8140</td>\n",
       "      <td>facebook.com</td>\n",
       "      <td>True</td>\n",
       "      <td>7.354839</td>\n",
       "      <td>https://www.facebook.com/lindsayfoord/videos/1...</td>\n",
       "    </tr>\n",
       "    <tr>\n",
       "      <th>4</th>\n",
       "      <td>8141</td>\n",
       "      <td>facebook.com</td>\n",
       "      <td>True</td>\n",
       "      <td>7.354839</td>\n",
       "      <td>https://m.facebook.com/watch/?v=458659582007540</td>\n",
       "    </tr>\n",
       "    <tr>\n",
       "      <th>...</th>\n",
       "      <td>...</td>\n",
       "      <td>...</td>\n",
       "      <td>...</td>\n",
       "      <td>...</td>\n",
       "      <td>...</td>\n",
       "    </tr>\n",
       "    <tr>\n",
       "      <th>358</th>\n",
       "      <td>10006</td>\n",
       "      <td>wixsite.com</td>\n",
       "      <td>True</td>\n",
       "      <td>368.806460</td>\n",
       "      <td>https://goodcitizen2021.wixsite.com/website/tr...</td>\n",
       "    </tr>\n",
       "    <tr>\n",
       "      <th>359</th>\n",
       "      <td>10007</td>\n",
       "      <td>wixsite.com</td>\n",
       "      <td>True</td>\n",
       "      <td>368.806460</td>\n",
       "      <td>https://kasialovesgod.wixsite.com/newsletter/p...</td>\n",
       "    </tr>\n",
       "    <tr>\n",
       "      <th>360</th>\n",
       "      <td>10008</td>\n",
       "      <td>wixsite.com</td>\n",
       "      <td>True</td>\n",
       "      <td>368.806460</td>\n",
       "      <td>https://goodcitizen2021.wixsite.com/website/co...</td>\n",
       "    </tr>\n",
       "    <tr>\n",
       "      <th>361</th>\n",
       "      <td>14126</td>\n",
       "      <td>netdna-ssl.com</td>\n",
       "      <td>True</td>\n",
       "      <td>9324.419000</td>\n",
       "      <td>https://30g7el1b4b1n28kgpr414nuu-wpengine.netd...</td>\n",
       "    </tr>\n",
       "    <tr>\n",
       "      <th>362</th>\n",
       "      <td>14470</td>\n",
       "      <td>b-cdn.net</td>\n",
       "      <td>True</td>\n",
       "      <td>17391.580000</td>\n",
       "      <td>https://alschner-klartext.b-cdn.net/wp-content...</td>\n",
       "    </tr>\n",
       "  </tbody>\n",
       "</table>\n",
       "<p>363 rows × 5 columns</p>\n",
       "</div>"
      ],
      "text/plain": [
       "     Unnamed: 0          domain  is_apex_in_alexa          rank  \\\n",
       "0          8137    facebook.com              True      7.354839   \n",
       "1          8138    facebook.com              True      7.354839   \n",
       "2          8139    facebook.com              True      7.354839   \n",
       "3          8140    facebook.com              True      7.354839   \n",
       "4          8141    facebook.com              True      7.354839   \n",
       "..          ...             ...               ...           ...   \n",
       "358       10006     wixsite.com              True    368.806460   \n",
       "359       10007     wixsite.com              True    368.806460   \n",
       "360       10008     wixsite.com              True    368.806460   \n",
       "361       14126  netdna-ssl.com              True   9324.419000   \n",
       "362       14470       b-cdn.net              True  17391.580000   \n",
       "\n",
       "                                                   url  \n",
       "0    https://www.facebook.com/marcellaterry/posts/1...  \n",
       "1    https://m.facebook.com/story.php?story_fbid=51...  \n",
       "2    https://www.facebook.com/morgancjonas/videos/1...  \n",
       "3    https://www.facebook.com/lindsayfoord/videos/1...  \n",
       "4      https://m.facebook.com/watch/?v=458659582007540  \n",
       "..                                                 ...  \n",
       "358  https://goodcitizen2021.wixsite.com/website/tr...  \n",
       "359  https://kasialovesgod.wixsite.com/newsletter/p...  \n",
       "360  https://goodcitizen2021.wixsite.com/website/co...  \n",
       "361  https://30g7el1b4b1n28kgpr414nuu-wpengine.netd...  \n",
       "362  https://alschner-klartext.b-cdn.net/wp-content...  \n",
       "\n",
       "[363 rows x 5 columns]"
      ]
     },
     "metadata": {},
     "output_type": "display_data"
    }
   ],
   "source": [
    "print('Number of uniqued alexa ranked public apex/fqdns : {}'.format(PUBLIC.domain.unique().shape[0]))\n",
    "print('Number of uniqued alexa ranked public URls : {}'.format(PUBLIC.url.unique().shape[0]))\n",
    "display(PUBLIC)"
   ]
  },
  {
   "cell_type": "code",
   "execution_count": 15,
   "metadata": {
    "ExecuteTime": {
     "end_time": "2021-10-07T17:36:37.442165Z",
     "start_time": "2021-10-07T17:36:37.436658Z"
    }
   },
   "outputs": [
    {
     "name": "stdout",
     "output_type": "stream",
     "text": [
      "facebook.com\n",
      "wordpress.com\n",
      "tumblr.com\n",
      "twimg.com\n",
      "wixsite.com\n",
      "netdna-ssl.com\n",
      "b-cdn.net\n"
     ]
    }
   ],
   "source": [
    "for i in PUBLIC.domain.unique():\n",
    "    print(i)"
   ]
  },
  {
   "cell_type": "code",
   "execution_count": 16,
   "metadata": {
    "ExecuteTime": {
     "end_time": "2021-10-07T17:36:37.474467Z",
     "start_time": "2021-10-07T17:36:37.444027Z"
    }
   },
   "outputs": [
    {
     "name": "stdout",
     "output_type": "stream",
     "text": [
      "Number of uniqued alexa ranked private apex/fqdns : 782\n",
      "Number of uniqued alexa ranked private URls : 8533\n"
     ]
    },
    {
     "data": {
      "text/html": [
       "<div>\n",
       "<style scoped>\n",
       "    .dataframe tbody tr th:only-of-type {\n",
       "        vertical-align: middle;\n",
       "    }\n",
       "\n",
       "    .dataframe tbody tr th {\n",
       "        vertical-align: top;\n",
       "    }\n",
       "\n",
       "    .dataframe thead th {\n",
       "        text-align: right;\n",
       "    }\n",
       "</style>\n",
       "<table border=\"1\" class=\"dataframe\">\n",
       "  <thead>\n",
       "    <tr style=\"text-align: right;\">\n",
       "      <th></th>\n",
       "      <th>Unnamed: 0</th>\n",
       "      <th>domain</th>\n",
       "      <th>is_apex_in_alexa</th>\n",
       "      <th>rank</th>\n",
       "      <th>url</th>\n",
       "    </tr>\n",
       "  </thead>\n",
       "  <tbody>\n",
       "    <tr>\n",
       "      <th>0</th>\n",
       "      <td>7591</td>\n",
       "      <td>google.com</td>\n",
       "      <td>True</td>\n",
       "      <td>1.00</td>\n",
       "      <td>https://drive.google.com/drive/folders/1lBiMax...</td>\n",
       "    </tr>\n",
       "    <tr>\n",
       "      <th>1</th>\n",
       "      <td>7592</td>\n",
       "      <td>google.com</td>\n",
       "      <td>True</td>\n",
       "      <td>1.00</td>\n",
       "      <td>https://drive.google.com/file/d/1FCLpbPgBu1Kb-...</td>\n",
       "    </tr>\n",
       "    <tr>\n",
       "      <th>2</th>\n",
       "      <td>7593</td>\n",
       "      <td>google.com</td>\n",
       "      <td>True</td>\n",
       "      <td>1.00</td>\n",
       "      <td>https://www.google.com/amp/s/www.kcra.com/amp/...</td>\n",
       "    </tr>\n",
       "    <tr>\n",
       "      <th>3</th>\n",
       "      <td>7594</td>\n",
       "      <td>google.com</td>\n",
       "      <td>True</td>\n",
       "      <td>1.00</td>\n",
       "      <td>https://www.google.com/url?sa=t&amp;source=web&amp;cd=...</td>\n",
       "    </tr>\n",
       "    <tr>\n",
       "      <th>4</th>\n",
       "      <td>7595</td>\n",
       "      <td>google.com</td>\n",
       "      <td>True</td>\n",
       "      <td>1.00</td>\n",
       "      <td>https://www.google.com/search?q=VAERS&amp;rlz=1C1C...</td>\n",
       "    </tr>\n",
       "    <tr>\n",
       "      <th>...</th>\n",
       "      <td>...</td>\n",
       "      <td>...</td>\n",
       "      <td>...</td>\n",
       "      <td>...</td>\n",
       "      <td>...</td>\n",
       "    </tr>\n",
       "    <tr>\n",
       "      <th>8528</th>\n",
       "      <td>16482</td>\n",
       "      <td>dimpenews.com</td>\n",
       "      <td>True</td>\n",
       "      <td>218499.67</td>\n",
       "      <td>https://dimpenews.com/2021/05/08/vaers-27%cf%8...</td>\n",
       "    </tr>\n",
       "    <tr>\n",
       "      <th>8529</th>\n",
       "      <td>16483</td>\n",
       "      <td>dimpenews.com</td>\n",
       "      <td>True</td>\n",
       "      <td>218499.67</td>\n",
       "      <td>http://dimpenews.com</td>\n",
       "    </tr>\n",
       "    <tr>\n",
       "      <th>8530</th>\n",
       "      <td>16484</td>\n",
       "      <td>newsorbit.com</td>\n",
       "      <td>True</td>\n",
       "      <td>229489.97</td>\n",
       "      <td>https://newsorbit.com/news/corona-vaccine-is-s...</td>\n",
       "    </tr>\n",
       "    <tr>\n",
       "      <th>8531</th>\n",
       "      <td>16485</td>\n",
       "      <td>zums.ac.ir</td>\n",
       "      <td>True</td>\n",
       "      <td>243115.97</td>\n",
       "      <td>https://zums.ac.ir//journal/article-1-6197-en....</td>\n",
       "    </tr>\n",
       "    <tr>\n",
       "      <th>8532</th>\n",
       "      <td>16486</td>\n",
       "      <td>s.com</td>\n",
       "      <td>True</td>\n",
       "      <td>259666.16</td>\n",
       "      <td>http://s.com/2021-04-30-baby-dies-pfizer-covid...</td>\n",
       "    </tr>\n",
       "  </tbody>\n",
       "</table>\n",
       "<p>8533 rows × 5 columns</p>\n",
       "</div>"
      ],
      "text/plain": [
       "      Unnamed: 0         domain  is_apex_in_alexa       rank  \\\n",
       "0           7591     google.com              True       1.00   \n",
       "1           7592     google.com              True       1.00   \n",
       "2           7593     google.com              True       1.00   \n",
       "3           7594     google.com              True       1.00   \n",
       "4           7595     google.com              True       1.00   \n",
       "...          ...            ...               ...        ...   \n",
       "8528       16482  dimpenews.com              True  218499.67   \n",
       "8529       16483  dimpenews.com              True  218499.67   \n",
       "8530       16484  newsorbit.com              True  229489.97   \n",
       "8531       16485     zums.ac.ir              True  243115.97   \n",
       "8532       16486          s.com              True  259666.16   \n",
       "\n",
       "                                                    url  \n",
       "0     https://drive.google.com/drive/folders/1lBiMax...  \n",
       "1     https://drive.google.com/file/d/1FCLpbPgBu1Kb-...  \n",
       "2     https://www.google.com/amp/s/www.kcra.com/amp/...  \n",
       "3     https://www.google.com/url?sa=t&source=web&cd=...  \n",
       "4     https://www.google.com/search?q=VAERS&rlz=1C1C...  \n",
       "...                                                 ...  \n",
       "8528  https://dimpenews.com/2021/05/08/vaers-27%cf%8...  \n",
       "8529                               http://dimpenews.com  \n",
       "8530  https://newsorbit.com/news/corona-vaccine-is-s...  \n",
       "8531  https://zums.ac.ir//journal/article-1-6197-en....  \n",
       "8532  http://s.com/2021-04-30-baby-dies-pfizer-covid...  \n",
       "\n",
       "[8533 rows x 5 columns]"
      ]
     },
     "metadata": {},
     "output_type": "display_data"
    }
   ],
   "source": [
    "print('Number of uniqued alexa ranked private apex/fqdns : {}'.format(PRIVATE.domain.unique().shape[0]))\n",
    "print('Number of uniqued alexa ranked private URls : {}'.format(PRIVATE.url.unique().shape[0]))\n",
    "display(PRIVATE)"
   ]
  },
  {
   "cell_type": "markdown",
   "metadata": {
    "ExecuteTime": {
     "end_time": "2021-10-07T16:14:28.926330Z",
     "start_time": "2021-10-07T16:14:28.919629Z"
    }
   },
   "source": [
    "<b> Most frequent alexa ranked public apex/fqdn </b>"
   ]
  },
  {
   "cell_type": "code",
   "execution_count": 17,
   "metadata": {
    "ExecuteTime": {
     "end_time": "2021-10-07T17:36:38.300316Z",
     "start_time": "2021-10-07T17:36:37.476381Z"
    }
   },
   "outputs": [
    {
     "data": {
      "image/png": "[encoded data removed]",
      "text/plain": [
       "<Figure size 1440x480 with 1 Axes>"
      ]
     },
     "metadata": {},
     "output_type": "display_data"
    }
   ],
   "source": [
    "cat_log = sorted(Counter(PRIVATE.domain).items(), key = lambda itm: itm[1], reverse = True)[:50]\n",
    "plt.figure(figsize=(18, 6), dpi=80)\n",
    "plt.plot(list(map(lambda x:x[0], cat_log)),list(map(lambda x:x[1], cat_log)))\n",
    "plt.xticks(rotation=90)\n",
    "plt.show()"
   ]
  },
  {
   "cell_type": "markdown",
   "metadata": {},
   "source": [
    "#### filter out public and non public alexa/fqdns from alexa ranked dataset"
   ]
  },
  {
   "cell_type": "code",
   "execution_count": 18,
   "metadata": {
    "ExecuteTime": {
     "end_time": "2021-10-07T17:36:43.365333Z",
     "start_time": "2021-10-07T17:36:38.302210Z"
    }
   },
   "outputs": [
    {
     "data": {
      "application/vnd.jupyter.widget-view+json": {
       "model_id": "08e6e0765de64ecf98e40d4ce865dd7f",
       "version_major": 2,
       "version_minor": 0
      },
      "text/plain": [
       "0it [00:00, ?it/s]"
      ]
     },
     "metadata": {},
     "output_type": "display_data"
    }
   ],
   "source": [
    "PUBLIC_UN = []\n",
    "PRIVATE_UN = []\n",
    "\n",
    "for index, row in tqdm_notebook(unrank.iterrows()):\n",
    "    if row.domain in public_domains:\n",
    "        PUBLIC_UN.append(row)\n",
    "    else:\n",
    "        PRIVATE_UN.append(row)\n",
    "\n",
    "PUBLIC_UN  = pd.DataFrame(PUBLIC_UN).reset_index(drop=True)\n",
    "PRIVATE_UN = pd.DataFrame(PRIVATE_UN).reset_index(drop=True)"
   ]
  },
  {
   "cell_type": "code",
   "execution_count": 19,
   "metadata": {
    "ExecuteTime": {
     "end_time": "2021-10-07T17:36:43.386867Z",
     "start_time": "2021-10-07T17:36:43.368099Z"
    }
   },
   "outputs": [
    {
     "name": "stdout",
     "output_type": "stream",
     "text": [
      "Number of uniqued alexa unranked public apex/fqdns : 5\n",
      "Number of uniqued alexa unranked public URls : 130\n"
     ]
    },
    {
     "data": {
      "text/html": [
       "<div>\n",
       "<style scoped>\n",
       "    .dataframe tbody tr th:only-of-type {\n",
       "        vertical-align: middle;\n",
       "    }\n",
       "\n",
       "    .dataframe tbody tr th {\n",
       "        vertical-align: top;\n",
       "    }\n",
       "\n",
       "    .dataframe thead th {\n",
       "        text-align: right;\n",
       "    }\n",
       "</style>\n",
       "<table border=\"1\" class=\"dataframe\">\n",
       "  <thead>\n",
       "    <tr style=\"text-align: right;\">\n",
       "      <th></th>\n",
       "      <th>Unnamed: 0</th>\n",
       "      <th>domain</th>\n",
       "      <th>is_apex_in_alexa</th>\n",
       "      <th>rank</th>\n",
       "      <th>url</th>\n",
       "    </tr>\n",
       "  </thead>\n",
       "  <tbody>\n",
       "    <tr>\n",
       "      <th>0</th>\n",
       "      <td>194</td>\n",
       "      <td>blogspot.com</td>\n",
       "      <td>False</td>\n",
       "      <td>-1.0</td>\n",
       "      <td>http://alfredodecclesia.blogspot.com/2021/06/c...</td>\n",
       "    </tr>\n",
       "    <tr>\n",
       "      <th>1</th>\n",
       "      <td>302</td>\n",
       "      <td>blogspot.com</td>\n",
       "      <td>False</td>\n",
       "      <td>-1.0</td>\n",
       "      <td>https://2politicaljunkies.blogspot.com/2021/05...</td>\n",
       "    </tr>\n",
       "    <tr>\n",
       "      <th>2</th>\n",
       "      <td>309</td>\n",
       "      <td>blogspot.com</td>\n",
       "      <td>False</td>\n",
       "      <td>-1.0</td>\n",
       "      <td>https://antioph.blogspot.com/2021/01/93-covid-...</td>\n",
       "    </tr>\n",
       "    <tr>\n",
       "      <th>3</th>\n",
       "      <td>317</td>\n",
       "      <td>blogspot.com</td>\n",
       "      <td>False</td>\n",
       "      <td>-1.0</td>\n",
       "      <td>https://anexsartitos.blogspot.com/2021/07/tren...</td>\n",
       "    </tr>\n",
       "    <tr>\n",
       "      <th>4</th>\n",
       "      <td>341</td>\n",
       "      <td>blogspot.com</td>\n",
       "      <td>False</td>\n",
       "      <td>-1.0</td>\n",
       "      <td>https://alexposoukh.blogspot.com/2021/05/vacci...</td>\n",
       "    </tr>\n",
       "    <tr>\n",
       "      <th>...</th>\n",
       "      <td>...</td>\n",
       "      <td>...</td>\n",
       "      <td>...</td>\n",
       "      <td>...</td>\n",
       "      <td>...</td>\n",
       "    </tr>\n",
       "    <tr>\n",
       "      <th>125</th>\n",
       "      <td>7370</td>\n",
       "      <td>blogspot.com</td>\n",
       "      <td>False</td>\n",
       "      <td>-1.0</td>\n",
       "      <td>https://ppldailylife.blogspot.com/2021/04/fron...</td>\n",
       "    </tr>\n",
       "    <tr>\n",
       "      <th>126</th>\n",
       "      <td>7382</td>\n",
       "      <td>blogspot.com</td>\n",
       "      <td>False</td>\n",
       "      <td>-1.0</td>\n",
       "      <td>https://stratagemsoftheright.blogspot.com/2021...</td>\n",
       "    </tr>\n",
       "    <tr>\n",
       "      <th>127</th>\n",
       "      <td>7396</td>\n",
       "      <td>blogspot.com</td>\n",
       "      <td>False</td>\n",
       "      <td>-1.0</td>\n",
       "      <td>https://mandataapoekso.blogspot.com/2021/03/va...</td>\n",
       "    </tr>\n",
       "    <tr>\n",
       "      <th>128</th>\n",
       "      <td>7404</td>\n",
       "      <td>blogspot.com</td>\n",
       "      <td>False</td>\n",
       "      <td>-1.0</td>\n",
       "      <td>https://mandataapoekso.blogspot.com/2021/01/93...</td>\n",
       "    </tr>\n",
       "    <tr>\n",
       "      <th>129</th>\n",
       "      <td>7557</td>\n",
       "      <td>blogspot.com</td>\n",
       "      <td>False</td>\n",
       "      <td>-1.0</td>\n",
       "      <td>http://momswhovax.blogspot.com/2011/10/incredi...</td>\n",
       "    </tr>\n",
       "  </tbody>\n",
       "</table>\n",
       "<p>130 rows × 5 columns</p>\n",
       "</div>"
      ],
      "text/plain": [
       "     Unnamed: 0        domain  is_apex_in_alexa  rank  \\\n",
       "0           194  blogspot.com             False  -1.0   \n",
       "1           302  blogspot.com             False  -1.0   \n",
       "2           309  blogspot.com             False  -1.0   \n",
       "3           317  blogspot.com             False  -1.0   \n",
       "4           341  blogspot.com             False  -1.0   \n",
       "..          ...           ...               ...   ...   \n",
       "125        7370  blogspot.com             False  -1.0   \n",
       "126        7382  blogspot.com             False  -1.0   \n",
       "127        7396  blogspot.com             False  -1.0   \n",
       "128        7404  blogspot.com             False  -1.0   \n",
       "129        7557  blogspot.com             False  -1.0   \n",
       "\n",
       "                                                   url  \n",
       "0    http://alfredodecclesia.blogspot.com/2021/06/c...  \n",
       "1    https://2politicaljunkies.blogspot.com/2021/05...  \n",
       "2    https://antioph.blogspot.com/2021/01/93-covid-...  \n",
       "3    https://anexsartitos.blogspot.com/2021/07/tren...  \n",
       "4    https://alexposoukh.blogspot.com/2021/05/vacci...  \n",
       "..                                                 ...  \n",
       "125  https://ppldailylife.blogspot.com/2021/04/fron...  \n",
       "126  https://stratagemsoftheright.blogspot.com/2021...  \n",
       "127  https://mandataapoekso.blogspot.com/2021/03/va...  \n",
       "128  https://mandataapoekso.blogspot.com/2021/01/93...  \n",
       "129  http://momswhovax.blogspot.com/2011/10/incredi...  \n",
       "\n",
       "[130 rows x 5 columns]"
      ]
     },
     "metadata": {},
     "output_type": "display_data"
    }
   ],
   "source": [
    "print('Number of uniqued alexa unranked public apex/fqdns : {}'.format(PUBLIC_UN.domain.unique().shape[0]))\n",
    "print('Number of uniqued alexa unranked public URls : {}'.format(PUBLIC_UN.url.unique().shape[0]))\n",
    "display(PUBLIC_UN)"
   ]
  },
  {
   "cell_type": "code",
   "execution_count": 20,
   "metadata": {
    "ExecuteTime": {
     "end_time": "2021-10-07T17:36:43.393876Z",
     "start_time": "2021-10-07T17:36:43.388551Z"
    }
   },
   "outputs": [
    {
     "name": "stdout",
     "output_type": "stream",
     "text": [
      "blogspot.com\n",
      "fbcdn.net\n",
      "googleusercontent.com\n",
      "github.io\n",
      "dyndns.org\n"
     ]
    }
   ],
   "source": [
    "for i in PUBLIC_UN.domain.unique():\n",
    "    print(i)"
   ]
  },
  {
   "cell_type": "code",
   "execution_count": 21,
   "metadata": {
    "ExecuteTime": {
     "end_time": "2021-10-07T17:36:43.422777Z",
     "start_time": "2021-10-07T17:36:43.395524Z"
    }
   },
   "outputs": [
    {
     "name": "stdout",
     "output_type": "stream",
     "text": [
      "Number of uniqued alexa unranked private apex/fqdns : 2091\n",
      "Number of uniqued alexa unranked private  URls : 7461\n"
     ]
    },
    {
     "data": {
      "text/html": [
       "<div>\n",
       "<style scoped>\n",
       "    .dataframe tbody tr th:only-of-type {\n",
       "        vertical-align: middle;\n",
       "    }\n",
       "\n",
       "    .dataframe tbody tr th {\n",
       "        vertical-align: top;\n",
       "    }\n",
       "\n",
       "    .dataframe thead th {\n",
       "        text-align: right;\n",
       "    }\n",
       "</style>\n",
       "<table border=\"1\" class=\"dataframe\">\n",
       "  <thead>\n",
       "    <tr style=\"text-align: right;\">\n",
       "      <th></th>\n",
       "      <th>Unnamed: 0</th>\n",
       "      <th>domain</th>\n",
       "      <th>is_apex_in_alexa</th>\n",
       "      <th>rank</th>\n",
       "      <th>url</th>\n",
       "    </tr>\n",
       "  </thead>\n",
       "  <tbody>\n",
       "    <tr>\n",
       "      <th>0</th>\n",
       "      <td>0</td>\n",
       "      <td>youtu.be</td>\n",
       "      <td>False</td>\n",
       "      <td>-1.0</td>\n",
       "      <td>https://youtu.be/CP8jtrA6EpI</td>\n",
       "    </tr>\n",
       "    <tr>\n",
       "      <th>1</th>\n",
       "      <td>1</td>\n",
       "      <td>medalerts.org</td>\n",
       "      <td>False</td>\n",
       "      <td>-1.0</td>\n",
       "      <td>http://www.medalerts.org/vaersdb/findfield.php...</td>\n",
       "    </tr>\n",
       "    <tr>\n",
       "      <th>2</th>\n",
       "      <td>2</td>\n",
       "      <td>medalerts.org</td>\n",
       "      <td>False</td>\n",
       "      <td>-1.0</td>\n",
       "      <td>http://www.medalerts.org/vaersdb/findfield.php...</td>\n",
       "    </tr>\n",
       "    <tr>\n",
       "      <th>3</th>\n",
       "      <td>3</td>\n",
       "      <td>medalerts.org</td>\n",
       "      <td>False</td>\n",
       "      <td>-1.0</td>\n",
       "      <td>http://www.medalerts.org/vaersdb/findfield.php...</td>\n",
       "    </tr>\n",
       "    <tr>\n",
       "      <th>4</th>\n",
       "      <td>4</td>\n",
       "      <td>fox6now.com</td>\n",
       "      <td>False</td>\n",
       "      <td>-1.0</td>\n",
       "      <td>https://www.fox6now.com/news/senator-johnson-f...</td>\n",
       "    </tr>\n",
       "    <tr>\n",
       "      <th>...</th>\n",
       "      <td>...</td>\n",
       "      <td>...</td>\n",
       "      <td>...</td>\n",
       "      <td>...</td>\n",
       "      <td>...</td>\n",
       "    </tr>\n",
       "    <tr>\n",
       "      <th>7456</th>\n",
       "      <td>7586</td>\n",
       "      <td>thewashingtonstandard.com</td>\n",
       "      <td>False</td>\n",
       "      <td>-1.0</td>\n",
       "      <td>https://thewashingtonstandard.com/3005-deaths-...</td>\n",
       "    </tr>\n",
       "    <tr>\n",
       "      <th>7457</th>\n",
       "      <td>7587</td>\n",
       "      <td>thewashingtonstandard.com</td>\n",
       "      <td>False</td>\n",
       "      <td>-1.0</td>\n",
       "      <td>https://thewashingtonstandard.com/cdc-vaers-de...</td>\n",
       "    </tr>\n",
       "    <tr>\n",
       "      <th>7458</th>\n",
       "      <td>7588</td>\n",
       "      <td>thevaccinereaction.org</td>\n",
       "      <td>False</td>\n",
       "      <td>-1.0</td>\n",
       "      <td>https://thevaccinereaction.org/2021/03/healthy...</td>\n",
       "    </tr>\n",
       "    <tr>\n",
       "      <th>7459</th>\n",
       "      <td>7589</td>\n",
       "      <td>swprs.org</td>\n",
       "      <td>False</td>\n",
       "      <td>-1.0</td>\n",
       "      <td>https://swprs.org/covid-vaccines-deaths/</td>\n",
       "    </tr>\n",
       "    <tr>\n",
       "      <th>7460</th>\n",
       "      <td>7590</td>\n",
       "      <td>thevaccinereaction.org</td>\n",
       "      <td>False</td>\n",
       "      <td>-1.0</td>\n",
       "      <td>https://thevaccinereaction.org/2020/01/only-on...</td>\n",
       "    </tr>\n",
       "  </tbody>\n",
       "</table>\n",
       "<p>7461 rows × 5 columns</p>\n",
       "</div>"
      ],
      "text/plain": [
       "      Unnamed: 0                     domain  is_apex_in_alexa  rank  \\\n",
       "0              0                   youtu.be             False  -1.0   \n",
       "1              1              medalerts.org             False  -1.0   \n",
       "2              2              medalerts.org             False  -1.0   \n",
       "3              3              medalerts.org             False  -1.0   \n",
       "4              4                fox6now.com             False  -1.0   \n",
       "...          ...                        ...               ...   ...   \n",
       "7456        7586  thewashingtonstandard.com             False  -1.0   \n",
       "7457        7587  thewashingtonstandard.com             False  -1.0   \n",
       "7458        7588     thevaccinereaction.org             False  -1.0   \n",
       "7459        7589                  swprs.org             False  -1.0   \n",
       "7460        7590     thevaccinereaction.org             False  -1.0   \n",
       "\n",
       "                                                    url  \n",
       "0                          https://youtu.be/CP8jtrA6EpI  \n",
       "1     http://www.medalerts.org/vaersdb/findfield.php...  \n",
       "2     http://www.medalerts.org/vaersdb/findfield.php...  \n",
       "3     http://www.medalerts.org/vaersdb/findfield.php...  \n",
       "4     https://www.fox6now.com/news/senator-johnson-f...  \n",
       "...                                                 ...  \n",
       "7456  https://thewashingtonstandard.com/3005-deaths-...  \n",
       "7457  https://thewashingtonstandard.com/cdc-vaers-de...  \n",
       "7458  https://thevaccinereaction.org/2021/03/healthy...  \n",
       "7459           https://swprs.org/covid-vaccines-deaths/  \n",
       "7460  https://thevaccinereaction.org/2020/01/only-on...  \n",
       "\n",
       "[7461 rows x 5 columns]"
      ]
     },
     "metadata": {},
     "output_type": "display_data"
    }
   ],
   "source": [
    "print('Number of uniqued alexa unranked private apex/fqdns : {}'.format(PRIVATE_UN.domain.unique().shape[0]))\n",
    "print('Number of uniqued alexa unranked private  URls : {}'.format(PRIVATE_UN.url.unique().shape[0]))\n",
    "display(PRIVATE_UN)"
   ]
  },
  {
   "cell_type": "markdown",
   "metadata": {},
   "source": [
    "<b> Most frequent alexa ranked public apex/fqdn </b>"
   ]
  },
  {
   "cell_type": "code",
   "execution_count": 22,
   "metadata": {
    "ExecuteTime": {
     "end_time": "2021-10-07T17:36:44.154377Z",
     "start_time": "2021-10-07T17:36:43.424138Z"
    }
   },
   "outputs": [
    {
     "data": {
      "image/png": "[encoded data removed]",
      "text/plain": [
       "<Figure size 1440x480 with 1 Axes>"
      ]
     },
     "metadata": {},
     "output_type": "display_data"
    }
   ],
   "source": [
    "cat_log_un = sorted(Counter(PRIVATE_UN.domain).items(), key = lambda itm: itm[1], reverse = True)[:50]\n",
    "plt.figure(figsize=(18, 6), dpi=80)\n",
    "plt.plot(list(map(lambda x:x[0], cat_log_un)),list(map(lambda x:x[1], cat_log_un)))\n",
    "plt.xticks(rotation=90)\n",
    "plt.show()"
   ]
  },
  {
   "cell_type": "markdown",
   "metadata": {
    "ExecuteTime": {
     "end_time": "2021-10-07T16:50:59.392728Z",
     "start_time": "2021-10-07T16:51:23.200Z"
    }
   },
   "source": [
    "### VT"
   ]
  },
  {
   "cell_type": "code",
   "execution_count": 23,
   "metadata": {
    "ExecuteTime": {
     "end_time": "2021-10-07T17:36:44.161945Z",
     "start_time": "2021-10-07T17:36:44.159023Z"
    }
   },
   "outputs": [],
   "source": [
    "# null = None\n",
    "# true = True\n",
    "# false = False\n",
    "\n",
    "# VTSCAN = []\n",
    "# for record in tqdm_notebook(open(VT,'r').readlines()):\n",
    "#     VTSCAN.append(eval(record))"
   ]
  },
  {
   "cell_type": "code",
   "execution_count": 24,
   "metadata": {
    "ExecuteTime": {
     "end_time": "2021-10-07T17:36:44.211330Z",
     "start_time": "2021-10-07T17:36:44.164566Z"
    }
   },
   "outputs": [],
   "source": [
    "# VTSCANDF = []\n",
    "# for i in tqdm_notebook(VTSCAN):\n",
    "#     VTSCANDF.append({\n",
    "#         'scan_id':i.get('scan_id'),\n",
    "#         'url':i.get('url'),\n",
    "#         'positives':i.get('positives')\n",
    "#     })\n",
    "# VTSCANDF = pd.DataFrame(VTSCANDF)\n",
    "# VTSCANDF.to_csv('temp.csv')\n",
    "\n",
    "VTSCANDF = pd.read_csv('temp.csv')"
   ]
  },
  {
   "cell_type": "code",
   "execution_count": 25,
   "metadata": {
    "ExecuteTime": {
     "end_time": "2021-10-07T17:36:44.228625Z",
     "start_time": "2021-10-07T17:36:44.213259Z"
    }
   },
   "outputs": [
    {
     "name": "stdout",
     "output_type": "stream",
     "text": [
      "Number of VT responses : 16448\n",
      "Missing VT responses : 39\n"
     ]
    },
    {
     "data": {
      "text/html": [
       "<div>\n",
       "<style scoped>\n",
       "    .dataframe tbody tr th:only-of-type {\n",
       "        vertical-align: middle;\n",
       "    }\n",
       "\n",
       "    .dataframe tbody tr th {\n",
       "        vertical-align: top;\n",
       "    }\n",
       "\n",
       "    .dataframe thead th {\n",
       "        text-align: right;\n",
       "    }\n",
       "</style>\n",
       "<table border=\"1\" class=\"dataframe\">\n",
       "  <thead>\n",
       "    <tr style=\"text-align: right;\">\n",
       "      <th></th>\n",
       "      <th>Unnamed: 0</th>\n",
       "      <th>scan_id</th>\n",
       "      <th>url</th>\n",
       "      <th>positives</th>\n",
       "    </tr>\n",
       "  </thead>\n",
       "  <tbody>\n",
       "    <tr>\n",
       "      <th>0</th>\n",
       "      <td>0</td>\n",
       "      <td>402ce390826557214017c26fe81bcc1a8f4a2668c6b76d...</td>\n",
       "      <td>https://wonder.cdc.gov/vaers.html</td>\n",
       "      <td>0.0</td>\n",
       "    </tr>\n",
       "    <tr>\n",
       "      <th>1</th>\n",
       "      <td>1</td>\n",
       "      <td>e6fb27439ba5c9bdf7246b7c185ee1497d2c2785e75b40...</td>\n",
       "      <td>https://www.openvaers.com/covid-data</td>\n",
       "      <td>0.0</td>\n",
       "    </tr>\n",
       "    <tr>\n",
       "      <th>2</th>\n",
       "      <td>2</td>\n",
       "      <td>4c12482d16f1c44282f7b4772655afa5ec928d1fd1889d...</td>\n",
       "      <td>https://childrenshealthdefense.org/defender/va...</td>\n",
       "      <td>0.0</td>\n",
       "    </tr>\n",
       "    <tr>\n",
       "      <th>3</th>\n",
       "      <td>3</td>\n",
       "      <td>8067ef81705c2880f9f1593742f0678903fe9b595857ad...</td>\n",
       "      <td>https://vaers.hhs.gov/</td>\n",
       "      <td>0.0</td>\n",
       "    </tr>\n",
       "    <tr>\n",
       "      <th>4</th>\n",
       "      <td>4</td>\n",
       "      <td>5594f2c7594e4db92d6eb8305714f49294dc09ee8e720e...</td>\n",
       "      <td>https://childrenshealthdefense.org/defender/cd...</td>\n",
       "      <td>0.0</td>\n",
       "    </tr>\n",
       "    <tr>\n",
       "      <th>...</th>\n",
       "      <td>...</td>\n",
       "      <td>...</td>\n",
       "      <td>...</td>\n",
       "      <td>...</td>\n",
       "    </tr>\n",
       "    <tr>\n",
       "      <th>16443</th>\n",
       "      <td>16443</td>\n",
       "      <td>472737c203e17acd3e86a9001d4c08f827585c1e10c1e4...</td>\n",
       "      <td>https://medalerts.org/vaersdb/findfield.php?EV...</td>\n",
       "      <td>0.0</td>\n",
       "    </tr>\n",
       "    <tr>\n",
       "      <th>16444</th>\n",
       "      <td>16444</td>\n",
       "      <td>ec8bec963a6f4c21c8b783830f8671be6b3d44b62ce38b...</td>\n",
       "      <td>https://medalerts.org/vaersdb/findfield.php?EV...</td>\n",
       "      <td>0.0</td>\n",
       "    </tr>\n",
       "    <tr>\n",
       "      <th>16445</th>\n",
       "      <td>16445</td>\n",
       "      <td>d3bed42d2468c22f10632aa346f7c17ee11b2426183dff...</td>\n",
       "      <td>https://medalerts.org/vaersdb/findfield.php?EV...</td>\n",
       "      <td>0.0</td>\n",
       "    </tr>\n",
       "    <tr>\n",
       "      <th>16446</th>\n",
       "      <td>16446</td>\n",
       "      <td>d6f34b468b180f53eaac301875931667e52bfe0be0f61c...</td>\n",
       "      <td>https://medalerts.org/vaersdb/findfield.php?EV...</td>\n",
       "      <td>0.0</td>\n",
       "    </tr>\n",
       "    <tr>\n",
       "      <th>16447</th>\n",
       "      <td>16447</td>\n",
       "      <td>2d8bbd3577148074b9ec131bcec023053a1248dec24366...</td>\n",
       "      <td>https://zums.ac.ir/journal/article-1-6197-en.html</td>\n",
       "      <td>0.0</td>\n",
       "    </tr>\n",
       "  </tbody>\n",
       "</table>\n",
       "<p>16448 rows × 4 columns</p>\n",
       "</div>"
      ],
      "text/plain": [
       "       Unnamed: 0                                            scan_id  \\\n",
       "0               0  402ce390826557214017c26fe81bcc1a8f4a2668c6b76d...   \n",
       "1               1  e6fb27439ba5c9bdf7246b7c185ee1497d2c2785e75b40...   \n",
       "2               2  4c12482d16f1c44282f7b4772655afa5ec928d1fd1889d...   \n",
       "3               3  8067ef81705c2880f9f1593742f0678903fe9b595857ad...   \n",
       "4               4  5594f2c7594e4db92d6eb8305714f49294dc09ee8e720e...   \n",
       "...           ...                                                ...   \n",
       "16443       16443  472737c203e17acd3e86a9001d4c08f827585c1e10c1e4...   \n",
       "16444       16444  ec8bec963a6f4c21c8b783830f8671be6b3d44b62ce38b...   \n",
       "16445       16445  d3bed42d2468c22f10632aa346f7c17ee11b2426183dff...   \n",
       "16446       16446  d6f34b468b180f53eaac301875931667e52bfe0be0f61c...   \n",
       "16447       16447  2d8bbd3577148074b9ec131bcec023053a1248dec24366...   \n",
       "\n",
       "                                                     url  positives  \n",
       "0                      https://wonder.cdc.gov/vaers.html        0.0  \n",
       "1                   https://www.openvaers.com/covid-data        0.0  \n",
       "2      https://childrenshealthdefense.org/defender/va...        0.0  \n",
       "3                                 https://vaers.hhs.gov/        0.0  \n",
       "4      https://childrenshealthdefense.org/defender/cd...        0.0  \n",
       "...                                                  ...        ...  \n",
       "16443  https://medalerts.org/vaersdb/findfield.php?EV...        0.0  \n",
       "16444  https://medalerts.org/vaersdb/findfield.php?EV...        0.0  \n",
       "16445  https://medalerts.org/vaersdb/findfield.php?EV...        0.0  \n",
       "16446  https://medalerts.org/vaersdb/findfield.php?EV...        0.0  \n",
       "16447  https://zums.ac.ir/journal/article-1-6197-en.html        0.0  \n",
       "\n",
       "[16448 rows x 4 columns]"
      ]
     },
     "execution_count": 25,
     "metadata": {},
     "output_type": "execute_result"
    }
   ],
   "source": [
    "print(\"Number of VT responses : {}\".format(VTSCANDF.shape[0]))\n",
    "print(\"Missing VT responses : {}\".format(alexa.shape[0] - VTSCANDF.shape[0]))\n",
    "VTSCANDF"
   ]
  },
  {
   "cell_type": "markdown",
   "metadata": {},
   "source": [
    "<b> VT with alexa ranked private </b>"
   ]
  },
  {
   "cell_type": "code",
   "execution_count": 26,
   "metadata": {
    "ExecuteTime": {
     "end_time": "2021-10-07T17:37:15.965721Z",
     "start_time": "2021-10-07T17:36:44.230169Z"
    }
   },
   "outputs": [
    {
     "data": {
      "application/vnd.jupyter.widget-view+json": {
       "model_id": "e3bb133786b54afb84117943a75704c2",
       "version_major": 2,
       "version_minor": 0
      },
      "text/plain": [
       "0it [00:00, ?it/s]"
      ]
     },
     "metadata": {},
     "output_type": "display_data"
    },
    {
     "name": "stdout",
     "output_type": "stream",
     "text": [
      "532\n"
     ]
    }
   ],
   "source": [
    "vt_with_alexa_ranked_private = []\n",
    "MISSING = []\n",
    "for index, row in tqdm_notebook(PRIVATE.iterrows()):\n",
    "    try:\n",
    "        temp = VTSCANDF.loc[VTSCANDF.url==row.url]\n",
    "        positives = temp.positives.values[0]\n",
    "        scan_id =  temp.scan_id.values[0]\n",
    "        row = row.append(pd.Series({'positives':positives}))\n",
    "        row = row.append(pd.Series({'scan_id ':scan_id}))\n",
    "        vt_with_alexa_ranked_private.append(row)\n",
    "    except:\n",
    "        MISSING.append(row.url)\n",
    "print(len(MISSING))\n",
    "vt_with_alexa_ranked_private = pd.DataFrame(vt_with_alexa_ranked_private)"
   ]
  },
  {
   "cell_type": "code",
   "execution_count": 27,
   "metadata": {
    "ExecuteTime": {
     "end_time": "2021-10-07T17:37:15.988169Z",
     "start_time": "2021-10-07T17:37:15.967898Z"
    }
   },
   "outputs": [
    {
     "data": {
      "text/html": [
       "<div>\n",
       "<style scoped>\n",
       "    .dataframe tbody tr th:only-of-type {\n",
       "        vertical-align: middle;\n",
       "    }\n",
       "\n",
       "    .dataframe tbody tr th {\n",
       "        vertical-align: top;\n",
       "    }\n",
       "\n",
       "    .dataframe thead th {\n",
       "        text-align: right;\n",
       "    }\n",
       "</style>\n",
       "<table border=\"1\" class=\"dataframe\">\n",
       "  <thead>\n",
       "    <tr style=\"text-align: right;\">\n",
       "      <th></th>\n",
       "      <th>Unnamed: 0</th>\n",
       "      <th>domain</th>\n",
       "      <th>is_apex_in_alexa</th>\n",
       "      <th>rank</th>\n",
       "      <th>url</th>\n",
       "      <th>positives</th>\n",
       "      <th>scan_id</th>\n",
       "    </tr>\n",
       "  </thead>\n",
       "  <tbody>\n",
       "    <tr>\n",
       "      <th>0</th>\n",
       "      <td>7591</td>\n",
       "      <td>google.com</td>\n",
       "      <td>True</td>\n",
       "      <td>1.00</td>\n",
       "      <td>https://drive.google.com/drive/folders/1lBiMax...</td>\n",
       "      <td>0.0</td>\n",
       "      <td>1e16c0322b0b495b9e15ea9a2547457f7ea889601fed4b...</td>\n",
       "    </tr>\n",
       "    <tr>\n",
       "      <th>1</th>\n",
       "      <td>7592</td>\n",
       "      <td>google.com</td>\n",
       "      <td>True</td>\n",
       "      <td>1.00</td>\n",
       "      <td>https://drive.google.com/file/d/1FCLpbPgBu1Kb-...</td>\n",
       "      <td>0.0</td>\n",
       "      <td>6e695fa545ee1002ce3f65ec26e2865fa72c15a31024a5...</td>\n",
       "    </tr>\n",
       "    <tr>\n",
       "      <th>2</th>\n",
       "      <td>7593</td>\n",
       "      <td>google.com</td>\n",
       "      <td>True</td>\n",
       "      <td>1.00</td>\n",
       "      <td>https://www.google.com/amp/s/www.kcra.com/amp/...</td>\n",
       "      <td>1.0</td>\n",
       "      <td>102a8e3bcf182bdcc12b69fe087313ac1bab1b6e356da8...</td>\n",
       "    </tr>\n",
       "    <tr>\n",
       "      <th>3</th>\n",
       "      <td>7595</td>\n",
       "      <td>google.com</td>\n",
       "      <td>True</td>\n",
       "      <td>1.00</td>\n",
       "      <td>https://www.google.com/search?q=VAERS&amp;rlz=1C1C...</td>\n",
       "      <td>1.0</td>\n",
       "      <td>0e10f02af40171010c3f2ab80ea9dbfbe570a194ae9b63...</td>\n",
       "    </tr>\n",
       "    <tr>\n",
       "      <th>4</th>\n",
       "      <td>7596</td>\n",
       "      <td>google.com</td>\n",
       "      <td>True</td>\n",
       "      <td>1.00</td>\n",
       "      <td>https://www.google.com/search?q=Fawkes+News&amp;rl...</td>\n",
       "      <td>1.0</td>\n",
       "      <td>db4f74a8572e3eee64cdcdc926635c90b80c096328a771...</td>\n",
       "    </tr>\n",
       "    <tr>\n",
       "      <th>...</th>\n",
       "      <td>...</td>\n",
       "      <td>...</td>\n",
       "      <td>...</td>\n",
       "      <td>...</td>\n",
       "      <td>...</td>\n",
       "      <td>...</td>\n",
       "      <td>...</td>\n",
       "    </tr>\n",
       "    <tr>\n",
       "      <th>7996</th>\n",
       "      <td>16476</td>\n",
       "      <td>catbox.moe</td>\n",
       "      <td>True</td>\n",
       "      <td>187512.33</td>\n",
       "      <td>https://files.catbox.moe/cc56f0.mp4</td>\n",
       "      <td>1.0</td>\n",
       "      <td>fef8a96df6486515e6c673e7833aeb7a728e4156ceb6f0...</td>\n",
       "    </tr>\n",
       "    <tr>\n",
       "      <th>7997</th>\n",
       "      <td>16477</td>\n",
       "      <td>shiftfrequency.com</td>\n",
       "      <td>True</td>\n",
       "      <td>215205.52</td>\n",
       "      <td>https://www.shiftfrequency.com/delta-biden-vae...</td>\n",
       "      <td>0.0</td>\n",
       "      <td>e3f403dd78006f306f0911c52b461204d052c69e131524...</td>\n",
       "    </tr>\n",
       "    <tr>\n",
       "      <th>7998</th>\n",
       "      <td>16478</td>\n",
       "      <td>shiftfrequency.com</td>\n",
       "      <td>True</td>\n",
       "      <td>215205.52</td>\n",
       "      <td>https://www.shiftfrequency.com/lawsuit-charges...</td>\n",
       "      <td>0.0</td>\n",
       "      <td>3c548d0f7a93805f74857b5873dc1ef79eb981b327ba9e...</td>\n",
       "    </tr>\n",
       "    <tr>\n",
       "      <th>7999</th>\n",
       "      <td>16484</td>\n",
       "      <td>newsorbit.com</td>\n",
       "      <td>True</td>\n",
       "      <td>229489.97</td>\n",
       "      <td>https://newsorbit.com/news/corona-vaccine-is-s...</td>\n",
       "      <td>0.0</td>\n",
       "      <td>74e7fd1a70cbc10e3a99dca9b3065ca5f349486fde4e08...</td>\n",
       "    </tr>\n",
       "    <tr>\n",
       "      <th>8000</th>\n",
       "      <td>16486</td>\n",
       "      <td>s.com</td>\n",
       "      <td>True</td>\n",
       "      <td>259666.16</td>\n",
       "      <td>http://s.com/2021-04-30-baby-dies-pfizer-covid...</td>\n",
       "      <td>0.0</td>\n",
       "      <td>7158beaee05270b1d407681b0d3a958a8185ae1261ce3c...</td>\n",
       "    </tr>\n",
       "  </tbody>\n",
       "</table>\n",
       "<p>8001 rows × 7 columns</p>\n",
       "</div>"
      ],
      "text/plain": [
       "      Unnamed: 0              domain  is_apex_in_alexa       rank  \\\n",
       "0           7591          google.com              True       1.00   \n",
       "1           7592          google.com              True       1.00   \n",
       "2           7593          google.com              True       1.00   \n",
       "3           7595          google.com              True       1.00   \n",
       "4           7596          google.com              True       1.00   \n",
       "...          ...                 ...               ...        ...   \n",
       "7996       16476          catbox.moe              True  187512.33   \n",
       "7997       16477  shiftfrequency.com              True  215205.52   \n",
       "7998       16478  shiftfrequency.com              True  215205.52   \n",
       "7999       16484       newsorbit.com              True  229489.97   \n",
       "8000       16486               s.com              True  259666.16   \n",
       "\n",
       "                                                    url  positives  \\\n",
       "0     https://drive.google.com/drive/folders/1lBiMax...        0.0   \n",
       "1     https://drive.google.com/file/d/1FCLpbPgBu1Kb-...        0.0   \n",
       "2     https://www.google.com/amp/s/www.kcra.com/amp/...        1.0   \n",
       "3     https://www.google.com/search?q=VAERS&rlz=1C1C...        1.0   \n",
       "4     https://www.google.com/search?q=Fawkes+News&rl...        1.0   \n",
       "...                                                 ...        ...   \n",
       "7996                https://files.catbox.moe/cc56f0.mp4        1.0   \n",
       "7997  https://www.shiftfrequency.com/delta-biden-vae...        0.0   \n",
       "7998  https://www.shiftfrequency.com/lawsuit-charges...        0.0   \n",
       "7999  https://newsorbit.com/news/corona-vaccine-is-s...        0.0   \n",
       "8000  http://s.com/2021-04-30-baby-dies-pfizer-covid...        0.0   \n",
       "\n",
       "                                               scan_id   \n",
       "0     1e16c0322b0b495b9e15ea9a2547457f7ea889601fed4b...  \n",
       "1     6e695fa545ee1002ce3f65ec26e2865fa72c15a31024a5...  \n",
       "2     102a8e3bcf182bdcc12b69fe087313ac1bab1b6e356da8...  \n",
       "3     0e10f02af40171010c3f2ab80ea9dbfbe570a194ae9b63...  \n",
       "4     db4f74a8572e3eee64cdcdc926635c90b80c096328a771...  \n",
       "...                                                 ...  \n",
       "7996  fef8a96df6486515e6c673e7833aeb7a728e4156ceb6f0...  \n",
       "7997  e3f403dd78006f306f0911c52b461204d052c69e131524...  \n",
       "7998  3c548d0f7a93805f74857b5873dc1ef79eb981b327ba9e...  \n",
       "7999  74e7fd1a70cbc10e3a99dca9b3065ca5f349486fde4e08...  \n",
       "8000  7158beaee05270b1d407681b0d3a958a8185ae1261ce3c...  \n",
       "\n",
       "[8001 rows x 7 columns]"
      ]
     },
     "execution_count": 27,
     "metadata": {},
     "output_type": "execute_result"
    }
   ],
   "source": [
    "vt_with_alexa_ranked_private"
   ]
  },
  {
   "cell_type": "code",
   "execution_count": 28,
   "metadata": {
    "ExecuteTime": {
     "end_time": "2021-10-07T17:37:16.178703Z",
     "start_time": "2021-10-07T17:37:15.989867Z"
    }
   },
   "outputs": [
    {
     "name": "stdout",
     "output_type": "stream",
     "text": [
      "[(0.0, 6678), (1.0, 998), (2.0, 320), (3.0, 4), (4.0, 1)]\n"
     ]
    },
    {
     "data": {
      "image/png": "[encoded data removed]",
      "text/plain": [
       "<Figure size 640x480 with 1 Axes>"
      ]
     },
     "metadata": {},
     "output_type": "display_data"
    }
   ],
   "source": [
    "catlog = sorted(Counter(vt_with_alexa_ranked_private.positives.values).items(),\n",
    "                key = lambda itm: itm[0], reverse = False)[:50]\n",
    "print(catlog)\n",
    "plt.figure(figsize=(8, 6), dpi=80)\n",
    "plt.bar(list(map(lambda x:x[0], catlog)),list(map(lambda x:x[1], catlog)))\n",
    "plt.show()"
   ]
  },
  {
   "cell_type": "markdown",
   "metadata": {},
   "source": [
    "<b> VT with alexa unranked private </b>"
   ]
  },
  {
   "cell_type": "code",
   "execution_count": 29,
   "metadata": {
    "ExecuteTime": {
     "end_time": "2021-10-07T17:37:45.828945Z",
     "start_time": "2021-10-07T17:37:16.180409Z"
    }
   },
   "outputs": [
    {
     "data": {
      "application/vnd.jupyter.widget-view+json": {
       "model_id": "d2db300f7c634bf1afda76c4cf9c7d11",
       "version_major": 2,
       "version_minor": 0
      },
      "text/plain": [
       "0it [00:00, ?it/s]"
      ]
     },
     "metadata": {},
     "output_type": "display_data"
    },
    {
     "name": "stdout",
     "output_type": "stream",
     "text": [
      "1158\n"
     ]
    }
   ],
   "source": [
    "vt_with_alexa_ranked_private_un = []\n",
    "MISSING_UN = []\n",
    "for index, row in tqdm_notebook(PRIVATE_UN.iterrows()):\n",
    "    try:\n",
    "        temp = VTSCANDF.loc[VTSCANDF.url==row.url]\n",
    "        positives = temp.positives.values[0]\n",
    "        scan_id =  temp.scan_id.values[0]\n",
    "        row = row.append(pd.Series({'positives':positives}))\n",
    "        row = row.append(pd.Series({'scan_id ':scan_id}))\n",
    "        vt_with_alexa_ranked_private_un.append(row)\n",
    "    except:\n",
    "        MISSING_UN.append(row.url)\n",
    "print(len(MISSING_UN))\n",
    "vt_with_alexa_ranked_private_un = pd.DataFrame(vt_with_alexa_ranked_private_un)"
   ]
  },
  {
   "cell_type": "code",
   "execution_count": 30,
   "metadata": {
    "ExecuteTime": {
     "end_time": "2021-10-07T17:37:46.023457Z",
     "start_time": "2021-10-07T17:37:45.831883Z"
    }
   },
   "outputs": [
    {
     "name": "stdout",
     "output_type": "stream",
     "text": [
      "[(0.0, 5814), (1.0, 153), (2.0, 223), (3.0, 8), (4.0, 8), (5.0, 97)]\n"
     ]
    },
    {
     "data": {
      "image/png": "[encoded data removed]",
      "text/plain": [
       "<Figure size 640x480 with 1 Axes>"
      ]
     },
     "metadata": {},
     "output_type": "display_data"
    }
   ],
   "source": [
    "catlog_un = sorted(Counter(vt_with_alexa_ranked_private_un.positives.values).items(),\n",
    "                   key = lambda itm: itm[0], reverse = False)[:50]\n",
    "print(catlog_un)\n",
    "plt.figure(figsize=(8, 6), dpi=80)\n",
    "plt.bar(list(map(lambda x:x[0], catlog_un)),list(map(lambda x:x[1], catlog_un)))\n",
    "plt.show()"
   ]
  },
  {
   "cell_type": "code",
   "execution_count": null,
   "metadata": {},
   "outputs": [],
   "source": []
  }
 ],
 "metadata": {
  "kernelspec": {
   "display_name": "Python 3",
   "language": "python",
   "name": "python3"
  },
  "language_info": {
   "codemirror_mode": {
    "name": "ipython",
    "version": 3
   },
   "file_extension": ".py",
   "mimetype": "text/x-python",
   "name": "python",
   "nbconvert_exporter": "python",
   "pygments_lexer": "ipython3",
   "version": "3.8.8"
  },
  "toc": {
   "base_numbering": 1,
   "nav_menu": {},
   "number_sections": true,
   "sideBar": true,
   "skip_h1_title": false,
   "title_cell": "Table of Contents",
   "title_sidebar": "Contents",
   "toc_cell": false,
   "toc_position": {},
   "toc_section_display": true,
   "toc_window_display": false
  },
  "varInspector": {
   "cols": {
    "lenName": 16,
    "lenType": 16,
    "lenVar": 40
   },
   "kernels_config": {
    "python": {
     "delete_cmd_postfix": "",
     "delete_cmd_prefix": "del ",
     "library": "var_list.py",
     "varRefreshCmd": "print(var_dic_list())"
    },
    "r": {
     "delete_cmd_postfix": ") ",
     "delete_cmd_prefix": "rm(",
     "library": "var_list.r",
     "varRefreshCmd": "cat(var_dic_list()) "
    }
   },
   "types_to_exclude": [
    "module",
    "function",
    "builtin_function_or_method",
    "instance",
    "_Feature"
   ],
   "window_display": false
  }
 },
 "nbformat": 4,
 "nbformat_minor": 4
}
