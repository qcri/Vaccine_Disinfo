{
 "cells": [
  {
   "cell_type": "code",
   "execution_count": 1,
   "metadata": {
    "ExecuteTime": {
     "end_time": "2021-03-13T08:23:09.421135Z",
     "start_time": "2021-03-13T08:23:09.033126Z"
    }
   },
   "outputs": [],
   "source": [
    "import numpy as np\n",
    "import pandas as pd"
   ]
  },
  {
   "cell_type": "code",
   "execution_count": 2,
   "metadata": {
    "ExecuteTime": {
     "end_time": "2021-03-13T08:23:10.031686Z",
     "start_time": "2021-03-13T08:23:09.536204Z"
    }
   },
   "outputs": [],
   "source": [
    "voter_fraud_df = pd.read_csv('../../data/voter-fraud-oct23-nov16-2020/voter-fraud-oct23-nov16-2020-shared-on-twitter-urls.csv')"
   ]
  },
  {
   "cell_type": "code",
   "execution_count": 3,
   "metadata": {
    "ExecuteTime": {
     "end_time": "2021-03-13T08:23:10.425507Z",
     "start_time": "2021-03-13T08:23:10.393818Z"
    }
   },
   "outputs": [
    {
     "data": {
      "text/html": [
       "<div>\n",
       "<style scoped>\n",
       "    .dataframe tbody tr th:only-of-type {\n",
       "        vertical-align: middle;\n",
       "    }\n",
       "\n",
       "    .dataframe tbody tr th {\n",
       "        vertical-align: top;\n",
       "    }\n",
       "\n",
       "    .dataframe thead th {\n",
       "        text-align: right;\n",
       "    }\n",
       "</style>\n",
       "<table border=\"1\" class=\"dataframe\">\n",
       "  <thead>\n",
       "    <tr style=\"text-align: right;\">\n",
       "      <th></th>\n",
       "      <th>url</th>\n",
       "      <th>domain</th>\n",
       "      <th>tweet_count</th>\n",
       "      <th>retweet_count_metadata</th>\n",
       "      <th>quote_count_metadata</th>\n",
       "      <th>tweet_count_by_community_0</th>\n",
       "      <th>retweet_count_by_community_0</th>\n",
       "      <th>quote_count_by_community_0</th>\n",
       "      <th>tweet_count_by_community_1</th>\n",
       "      <th>retweet_count_by_community_1</th>\n",
       "      <th>...</th>\n",
       "      <th>quote_count_by_community_2</th>\n",
       "      <th>tweet_count_by_community_3</th>\n",
       "      <th>retweet_count_by_community_3</th>\n",
       "      <th>quote_count_by_community_3</th>\n",
       "      <th>tweet_count_by_community_4</th>\n",
       "      <th>retweet_count_by_community_4</th>\n",
       "      <th>quote_count_by_community_4</th>\n",
       "      <th>tweet_count_by_suspended_users</th>\n",
       "      <th>retweet_count_by_suspended_users</th>\n",
       "      <th>quote_count_by_suspended_users</th>\n",
       "    </tr>\n",
       "  </thead>\n",
       "  <tbody>\n",
       "    <tr>\n",
       "      <th>0</th>\n",
       "      <td>https://www.foxnews.com/opinion/tucker-carlson...</td>\n",
       "      <td>foxnews.com</td>\n",
       "      <td>264</td>\n",
       "      <td>41078</td>\n",
       "      <td>6543</td>\n",
       "      <td>14</td>\n",
       "      <td>61</td>\n",
       "      <td>401</td>\n",
       "      <td>27</td>\n",
       "      <td>3250</td>\n",
       "      <td>...</td>\n",
       "      <td>966</td>\n",
       "      <td>4</td>\n",
       "      <td>345</td>\n",
       "      <td>39</td>\n",
       "      <td>8</td>\n",
       "      <td>483</td>\n",
       "      <td>34</td>\n",
       "      <td>62</td>\n",
       "      <td>2555</td>\n",
       "      <td>305</td>\n",
       "    </tr>\n",
       "    <tr>\n",
       "      <th>1</th>\n",
       "      <td>https://www.legislationline.org/download/id/14...</td>\n",
       "      <td>legislationline.org</td>\n",
       "      <td>148</td>\n",
       "      <td>19221</td>\n",
       "      <td>1973</td>\n",
       "      <td>0</td>\n",
       "      <td>24</td>\n",
       "      <td>92</td>\n",
       "      <td>30</td>\n",
       "      <td>2021</td>\n",
       "      <td>...</td>\n",
       "      <td>509</td>\n",
       "      <td>0</td>\n",
       "      <td>25</td>\n",
       "      <td>2</td>\n",
       "      <td>0</td>\n",
       "      <td>119</td>\n",
       "      <td>8</td>\n",
       "      <td>26</td>\n",
       "      <td>1793</td>\n",
       "      <td>139</td>\n",
       "    </tr>\n",
       "    <tr>\n",
       "      <th>2</th>\n",
       "      <td>https://www.houstonchronicle.com/politics/texa...</td>\n",
       "      <td>houstonchronicle.com</td>\n",
       "      <td>56</td>\n",
       "      <td>16627</td>\n",
       "      <td>2602</td>\n",
       "      <td>13</td>\n",
       "      <td>103</td>\n",
       "      <td>272</td>\n",
       "      <td>8</td>\n",
       "      <td>1037</td>\n",
       "      <td>...</td>\n",
       "      <td>345</td>\n",
       "      <td>3</td>\n",
       "      <td>74</td>\n",
       "      <td>15</td>\n",
       "      <td>0</td>\n",
       "      <td>67</td>\n",
       "      <td>4</td>\n",
       "      <td>3</td>\n",
       "      <td>1425</td>\n",
       "      <td>106</td>\n",
       "    </tr>\n",
       "    <tr>\n",
       "      <th>3</th>\n",
       "      <td>https://nypost.com/2020/11/11/usps-whistleblow...</td>\n",
       "      <td>nypost.com</td>\n",
       "      <td>85</td>\n",
       "      <td>15297</td>\n",
       "      <td>983</td>\n",
       "      <td>3</td>\n",
       "      <td>13</td>\n",
       "      <td>23</td>\n",
       "      <td>11</td>\n",
       "      <td>648</td>\n",
       "      <td>...</td>\n",
       "      <td>224</td>\n",
       "      <td>0</td>\n",
       "      <td>35</td>\n",
       "      <td>1</td>\n",
       "      <td>0</td>\n",
       "      <td>41</td>\n",
       "      <td>1</td>\n",
       "      <td>12</td>\n",
       "      <td>1124</td>\n",
       "      <td>69</td>\n",
       "    </tr>\n",
       "    <tr>\n",
       "      <th>4</th>\n",
       "      <td>https://thetexan.news/limestone-county-individ...</td>\n",
       "      <td>thetexan.news</td>\n",
       "      <td>280</td>\n",
       "      <td>14525</td>\n",
       "      <td>1459</td>\n",
       "      <td>2</td>\n",
       "      <td>13</td>\n",
       "      <td>21</td>\n",
       "      <td>41</td>\n",
       "      <td>1368</td>\n",
       "      <td>...</td>\n",
       "      <td>419</td>\n",
       "      <td>0</td>\n",
       "      <td>17</td>\n",
       "      <td>3</td>\n",
       "      <td>1</td>\n",
       "      <td>102</td>\n",
       "      <td>6</td>\n",
       "      <td>30</td>\n",
       "      <td>1385</td>\n",
       "      <td>138</td>\n",
       "    </tr>\n",
       "  </tbody>\n",
       "</table>\n",
       "<p>5 rows × 23 columns</p>\n",
       "</div>"
      ],
      "text/plain": [
       "                                                 url                domain  \\\n",
       "0  https://www.foxnews.com/opinion/tucker-carlson...           foxnews.com   \n",
       "1  https://www.legislationline.org/download/id/14...   legislationline.org   \n",
       "2  https://www.houstonchronicle.com/politics/texa...  houstonchronicle.com   \n",
       "3  https://nypost.com/2020/11/11/usps-whistleblow...            nypost.com   \n",
       "4  https://thetexan.news/limestone-county-individ...         thetexan.news   \n",
       "\n",
       "   tweet_count  retweet_count_metadata  quote_count_metadata  \\\n",
       "0          264                   41078                  6543   \n",
       "1          148                   19221                  1973   \n",
       "2           56                   16627                  2602   \n",
       "3           85                   15297                   983   \n",
       "4          280                   14525                  1459   \n",
       "\n",
       "   tweet_count_by_community_0  retweet_count_by_community_0  \\\n",
       "0                          14                            61   \n",
       "1                           0                            24   \n",
       "2                          13                           103   \n",
       "3                           3                            13   \n",
       "4                           2                            13   \n",
       "\n",
       "   quote_count_by_community_0  tweet_count_by_community_1  \\\n",
       "0                         401                          27   \n",
       "1                          92                          30   \n",
       "2                         272                           8   \n",
       "3                          23                          11   \n",
       "4                          21                          41   \n",
       "\n",
       "   retweet_count_by_community_1  ...  quote_count_by_community_2  \\\n",
       "0                          3250  ...                         966   \n",
       "1                          2021  ...                         509   \n",
       "2                          1037  ...                         345   \n",
       "3                           648  ...                         224   \n",
       "4                          1368  ...                         419   \n",
       "\n",
       "   tweet_count_by_community_3  retweet_count_by_community_3  \\\n",
       "0                           4                           345   \n",
       "1                           0                            25   \n",
       "2                           3                            74   \n",
       "3                           0                            35   \n",
       "4                           0                            17   \n",
       "\n",
       "   quote_count_by_community_3  tweet_count_by_community_4  \\\n",
       "0                          39                           8   \n",
       "1                           2                           0   \n",
       "2                          15                           0   \n",
       "3                           1                           0   \n",
       "4                           3                           1   \n",
       "\n",
       "   retweet_count_by_community_4  quote_count_by_community_4  \\\n",
       "0                           483                          34   \n",
       "1                           119                           8   \n",
       "2                            67                           4   \n",
       "3                            41                           1   \n",
       "4                           102                           6   \n",
       "\n",
       "   tweet_count_by_suspended_users  retweet_count_by_suspended_users  \\\n",
       "0                              62                              2555   \n",
       "1                              26                              1793   \n",
       "2                               3                              1425   \n",
       "3                              12                              1124   \n",
       "4                              30                              1385   \n",
       "\n",
       "   quote_count_by_suspended_users  \n",
       "0                             305  \n",
       "1                             139  \n",
       "2                             106  \n",
       "3                              69  \n",
       "4                             138  \n",
       "\n",
       "[5 rows x 23 columns]"
      ]
     },
     "execution_count": 3,
     "metadata": {},
     "output_type": "execute_result"
    }
   ],
   "source": [
    "voter_fraud_df.head()"
   ]
  },
  {
   "cell_type": "code",
   "execution_count": 4,
   "metadata": {
    "ExecuteTime": {
     "end_time": "2021-03-13T08:23:10.767159Z",
     "start_time": "2021-03-13T08:23:10.747667Z"
    }
   },
   "outputs": [
    {
     "name": "stdout",
     "output_type": "stream",
     "text": [
      "Unique domain cout:  12892\n"
     ]
    }
   ],
   "source": [
    "print(\"Unique domain cout: \", len(voter_fraud_df['domain'].unique()))"
   ]
  },
  {
   "cell_type": "code",
   "execution_count": 5,
   "metadata": {
    "ExecuteTime": {
     "end_time": "2021-03-13T08:23:11.361692Z",
     "start_time": "2021-03-13T08:23:11.258988Z"
    }
   },
   "outputs": [
    {
     "name": "stdout",
     "output_type": "stream",
     "text": [
      "Unique url cout:  138411\n"
     ]
    }
   ],
   "source": [
    "print(\"Unique url cout: \", len(voter_fraud_df['url'].unique()))"
   ]
  },
  {
   "cell_type": "code",
   "execution_count": 6,
   "metadata": {
    "ExecuteTime": {
     "end_time": "2021-03-13T08:23:11.790988Z",
     "start_time": "2021-03-13T08:23:11.781478Z"
    }
   },
   "outputs": [],
   "source": [
    "voter_fraud_domain_and_uls_df = voter_fraud_df[['url', 'domain']]"
   ]
  },
  {
   "cell_type": "code",
   "execution_count": 7,
   "metadata": {
    "ExecuteTime": {
     "end_time": "2021-03-13T08:23:15.563473Z",
     "start_time": "2021-03-13T08:23:14.522677Z"
    }
   },
   "outputs": [],
   "source": [
    "voter_fraud_domain_and_uls_df.to_csv(\"../../data/voter-fraud-oct23-nov16-2020/voter-fraud-oct23-nov16-2020-shared-on-twitter-only-domain-urls.csv\", index=False)"
   ]
  },
  {
   "cell_type": "code",
   "execution_count": 8,
   "metadata": {
    "ExecuteTime": {
     "end_time": "2021-03-13T08:23:16.748912Z",
     "start_time": "2021-03-13T08:23:16.728018Z"
    }
   },
   "outputs": [
    {
     "data": {
      "text/html": [
       "<div>\n",
       "<style scoped>\n",
       "    .dataframe tbody tr th:only-of-type {\n",
       "        vertical-align: middle;\n",
       "    }\n",
       "\n",
       "    .dataframe tbody tr th {\n",
       "        vertical-align: top;\n",
       "    }\n",
       "\n",
       "    .dataframe thead th {\n",
       "        text-align: right;\n",
       "    }\n",
       "</style>\n",
       "<table border=\"1\" class=\"dataframe\">\n",
       "  <thead>\n",
       "    <tr style=\"text-align: right;\">\n",
       "      <th></th>\n",
       "      <th>url</th>\n",
       "      <th>domain</th>\n",
       "    </tr>\n",
       "  </thead>\n",
       "  <tbody>\n",
       "    <tr>\n",
       "      <th>0</th>\n",
       "      <td>https://www.foxnews.com/opinion/tucker-carlson...</td>\n",
       "      <td>foxnews.com</td>\n",
       "    </tr>\n",
       "    <tr>\n",
       "      <th>1</th>\n",
       "      <td>https://www.legislationline.org/download/id/14...</td>\n",
       "      <td>legislationline.org</td>\n",
       "    </tr>\n",
       "    <tr>\n",
       "      <th>2</th>\n",
       "      <td>https://www.houstonchronicle.com/politics/texa...</td>\n",
       "      <td>houstonchronicle.com</td>\n",
       "    </tr>\n",
       "    <tr>\n",
       "      <th>3</th>\n",
       "      <td>https://nypost.com/2020/11/11/usps-whistleblow...</td>\n",
       "      <td>nypost.com</td>\n",
       "    </tr>\n",
       "    <tr>\n",
       "      <th>4</th>\n",
       "      <td>https://thetexan.news/limestone-county-individ...</td>\n",
       "      <td>thetexan.news</td>\n",
       "    </tr>\n",
       "    <tr>\n",
       "      <th>...</th>\n",
       "      <td>...</td>\n",
       "      <td>...</td>\n",
       "    </tr>\n",
       "    <tr>\n",
       "      <th>138406</th>\n",
       "      <td>https://www.marketwatch.com/story/postal-worke...</td>\n",
       "      <td>marketwatch.com</td>\n",
       "    </tr>\n",
       "    <tr>\n",
       "      <th>138407</th>\n",
       "      <td>https://leeronews.com/index.php/2020/11/11/dan...</td>\n",
       "      <td>leeronews.com</td>\n",
       "    </tr>\n",
       "    <tr>\n",
       "      <th>138408</th>\n",
       "      <td>https://t.me/c/1379189800/11181</td>\n",
       "      <td>t.me</td>\n",
       "    </tr>\n",
       "    <tr>\n",
       "      <th>138409</th>\n",
       "      <td>https://www.theepochtimes.com/nevada-secretary...</td>\n",
       "      <td>theepochtimes.com</td>\n",
       "    </tr>\n",
       "    <tr>\n",
       "      <th>138410</th>\n",
       "      <td>https://www.americanthinker.com/blog/2020/11/p...</td>\n",
       "      <td>americanthinker.com</td>\n",
       "    </tr>\n",
       "  </tbody>\n",
       "</table>\n",
       "<p>138411 rows × 2 columns</p>\n",
       "</div>"
      ],
      "text/plain": [
       "                                                      url  \\\n",
       "0       https://www.foxnews.com/opinion/tucker-carlson...   \n",
       "1       https://www.legislationline.org/download/id/14...   \n",
       "2       https://www.houstonchronicle.com/politics/texa...   \n",
       "3       https://nypost.com/2020/11/11/usps-whistleblow...   \n",
       "4       https://thetexan.news/limestone-county-individ...   \n",
       "...                                                   ...   \n",
       "138406  https://www.marketwatch.com/story/postal-worke...   \n",
       "138407  https://leeronews.com/index.php/2020/11/11/dan...   \n",
       "138408                    https://t.me/c/1379189800/11181   \n",
       "138409  https://www.theepochtimes.com/nevada-secretary...   \n",
       "138410  https://www.americanthinker.com/blog/2020/11/p...   \n",
       "\n",
       "                      domain  \n",
       "0                foxnews.com  \n",
       "1        legislationline.org  \n",
       "2       houstonchronicle.com  \n",
       "3                 nypost.com  \n",
       "4              thetexan.news  \n",
       "...                      ...  \n",
       "138406       marketwatch.com  \n",
       "138407         leeronews.com  \n",
       "138408                  t.me  \n",
       "138409     theepochtimes.com  \n",
       "138410   americanthinker.com  \n",
       "\n",
       "[138411 rows x 2 columns]"
      ]
     },
     "execution_count": 8,
     "metadata": {},
     "output_type": "execute_result"
    }
   ],
   "source": [
    "voter_fraud_domain_and_uls_df"
   ]
  },
  {
   "cell_type": "code",
   "execution_count": null,
   "metadata": {},
   "outputs": [],
   "source": []
  }
 ],
 "metadata": {
  "kernelspec": {
   "display_name": "Python 3",
   "language": "python",
   "name": "python3"
  },
  "language_info": {
   "codemirror_mode": {
    "name": "ipython",
    "version": 3
   },
   "file_extension": ".py",
   "mimetype": "text/x-python",
   "name": "python",
   "nbconvert_exporter": "python",
   "pygments_lexer": "ipython3",
   "version": "3.8.5"
  },
  "toc": {
   "base_numbering": 1,
   "nav_menu": {},
   "number_sections": true,
   "sideBar": true,
   "skip_h1_title": false,
   "title_cell": "Table of Contents",
   "title_sidebar": "Contents",
   "toc_cell": false,
   "toc_position": {},
   "toc_section_display": true,
   "toc_window_display": false
  },
  "varInspector": {
   "cols": {
    "lenName": 16,
    "lenType": 16,
    "lenVar": 40
   },
   "kernels_config": {
    "python": {
     "delete_cmd_postfix": "",
     "delete_cmd_prefix": "del ",
     "library": "var_list.py",
     "varRefreshCmd": "print(var_dic_list())"
    },
    "r": {
     "delete_cmd_postfix": ") ",
     "delete_cmd_prefix": "rm(",
     "library": "var_list.r",
     "varRefreshCmd": "cat(var_dic_list()) "
    }
   },
   "types_to_exclude": [
    "module",
    "function",
    "builtin_function_or_method",
    "instance",
    "_Feature"
   ],
   "window_display": false
  }
 },
 "nbformat": 4,
 "nbformat_minor": 4
}
