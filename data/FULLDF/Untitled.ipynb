{
 "cells": [
  {
   "cell_type": "code",
   "execution_count": 1,
   "metadata": {},
   "outputs": [],
   "source": [
    "import pandas as pd"
   ]
  },
  {
   "cell_type": "code",
   "execution_count": 2,
   "metadata": {},
   "outputs": [],
   "source": [
    "dfw1 = pd.read_csv('dataset_aug_2020_domain_Alexa.csv',delimiter=\"#\")\n",
    "dfw2 = pd.read_csv('dataset_sep_2020_domain_Alexa.csv',delimiter=\"#\")"
   ]
  },
  {
   "cell_type": "code",
   "execution_count": 3,
   "metadata": {},
   "outputs": [
    {
     "data": {
      "text/html": [
       "<div>\n",
       "<style scoped>\n",
       "    .dataframe tbody tr th:only-of-type {\n",
       "        vertical-align: middle;\n",
       "    }\n",
       "\n",
       "    .dataframe tbody tr th {\n",
       "        vertical-align: top;\n",
       "    }\n",
       "\n",
       "    .dataframe thead th {\n",
       "        text-align: right;\n",
       "    }\n",
       "</style>\n",
       "<table border=\"1\" class=\"dataframe\">\n",
       "  <thead>\n",
       "    <tr style=\"text-align: right;\">\n",
       "      <th></th>\n",
       "      <th>domain</th>\n",
       "      <th>dates</th>\n",
       "      <th>rank</th>\n",
       "    </tr>\n",
       "  </thead>\n",
       "  <tbody>\n",
       "    <tr>\n",
       "      <th>0</th>\n",
       "      <td>reddit.com</td>\n",
       "      <td>['2020-05-31', '2019-09-06', '2020-01-31', '20...</td>\n",
       "      <td>[20, 19, 19, 16, 15, 20, 6, 18, 20, 19, 19, 9,...</td>\n",
       "    </tr>\n",
       "    <tr>\n",
       "      <th>1</th>\n",
       "      <td>fr.sputniknews.com</td>\n",
       "      <td>[]</td>\n",
       "      <td>[]</td>\n",
       "    </tr>\n",
       "    <tr>\n",
       "      <th>2</th>\n",
       "      <td>minci.gob.ve</td>\n",
       "      <td>['2020-06-19', '2019-07-28', '2019-07-08', '20...</td>\n",
       "      <td>[134602, 149694, 224128, 346616, 114792, 14535...</td>\n",
       "    </tr>\n",
       "    <tr>\n",
       "      <th>3</th>\n",
       "      <td>sptnkne.ws</td>\n",
       "      <td>['2020-03-15', '2020-01-10', '2020-01-25', '20...</td>\n",
       "      <td>[273777, 766791, 457720, 259933, 117300, 48888...</td>\n",
       "    </tr>\n",
       "    <tr>\n",
       "      <th>4</th>\n",
       "      <td>hispanosaldia.com</td>\n",
       "      <td>['2020-06-13', '2020-06-18', '2019-11-21', '20...</td>\n",
       "      <td>[341733, 266541, 409417, 368762, 219539, 82490...</td>\n",
       "    </tr>\n",
       "  </tbody>\n",
       "</table>\n",
       "</div>"
      ],
      "text/plain": [
       "               domain                                              dates  \\\n",
       "0          reddit.com  ['2020-05-31', '2019-09-06', '2020-01-31', '20...   \n",
       "1  fr.sputniknews.com                                                 []   \n",
       "2        minci.gob.ve  ['2020-06-19', '2019-07-28', '2019-07-08', '20...   \n",
       "3          sptnkne.ws  ['2020-03-15', '2020-01-10', '2020-01-25', '20...   \n",
       "4   hispanosaldia.com  ['2020-06-13', '2020-06-18', '2019-11-21', '20...   \n",
       "\n",
       "                                                rank  \n",
       "0  [20, 19, 19, 16, 15, 20, 6, 18, 20, 19, 19, 9,...  \n",
       "1                                                 []  \n",
       "2  [134602, 149694, 224128, 346616, 114792, 14535...  \n",
       "3  [273777, 766791, 457720, 259933, 117300, 48888...  \n",
       "4  [341733, 266541, 409417, 368762, 219539, 82490...  "
      ]
     },
     "execution_count": 3,
     "metadata": {},
     "output_type": "execute_result"
    }
   ],
   "source": [
    "dfw1.head(5)"
   ]
  },
  {
   "cell_type": "code",
   "execution_count": 4,
   "metadata": {},
   "outputs": [
    {
     "data": {
      "text/html": [
       "<div>\n",
       "<style scoped>\n",
       "    .dataframe tbody tr th:only-of-type {\n",
       "        vertical-align: middle;\n",
       "    }\n",
       "\n",
       "    .dataframe tbody tr th {\n",
       "        vertical-align: top;\n",
       "    }\n",
       "\n",
       "    .dataframe thead th {\n",
       "        text-align: right;\n",
       "    }\n",
       "</style>\n",
       "<table border=\"1\" class=\"dataframe\">\n",
       "  <thead>\n",
       "    <tr style=\"text-align: right;\">\n",
       "      <th></th>\n",
       "      <th>domain</th>\n",
       "      <th>dates</th>\n",
       "      <th>rank</th>\n",
       "    </tr>\n",
       "  </thead>\n",
       "  <tbody>\n",
       "    <tr>\n",
       "      <th>0</th>\n",
       "      <td>forbes.com.br</td>\n",
       "      <td>['2020-05-04', '2020-01-07', '2020-02-04', '20...</td>\n",
       "      <td>[36927, 82761, 79569, 119060, 105144, 90032, 4...</td>\n",
       "    </tr>\n",
       "    <tr>\n",
       "      <th>1</th>\n",
       "      <td>google.com</td>\n",
       "      <td>['2020-07-20', '2019-08-10', '2019-07-05', '20...</td>\n",
       "      <td>[1, 1, 1, 1, 1, 1, 1, 1, 1, 1, 1, 1, 1, 1, 1, ...</td>\n",
       "    </tr>\n",
       "    <tr>\n",
       "      <th>2</th>\n",
       "      <td>xhne.ws</td>\n",
       "      <td>['2019-06-20', '2019-06-17']</td>\n",
       "      <td>[425854, 334129]</td>\n",
       "    </tr>\n",
       "    <tr>\n",
       "      <th>3</th>\n",
       "      <td>nbcnews.com</td>\n",
       "      <td>['2019-05-24', '2020-07-30', '2019-12-18', '20...</td>\n",
       "      <td>[919, 1867, 830, 1001, 722, 575, 860, 445, 629...</td>\n",
       "    </tr>\n",
       "    <tr>\n",
       "      <th>4</th>\n",
       "      <td>mol.im</td>\n",
       "      <td>['2019-07-05', '2020-06-12']</td>\n",
       "      <td>[686897, 360013]</td>\n",
       "    </tr>\n",
       "  </tbody>\n",
       "</table>\n",
       "</div>"
      ],
      "text/plain": [
       "          domain                                              dates  \\\n",
       "0  forbes.com.br  ['2020-05-04', '2020-01-07', '2020-02-04', '20...   \n",
       "1     google.com  ['2020-07-20', '2019-08-10', '2019-07-05', '20...   \n",
       "2        xhne.ws                       ['2019-06-20', '2019-06-17']   \n",
       "3    nbcnews.com  ['2019-05-24', '2020-07-30', '2019-12-18', '20...   \n",
       "4         mol.im                       ['2019-07-05', '2020-06-12']   \n",
       "\n",
       "                                                rank  \n",
       "0  [36927, 82761, 79569, 119060, 105144, 90032, 4...  \n",
       "1  [1, 1, 1, 1, 1, 1, 1, 1, 1, 1, 1, 1, 1, 1, 1, ...  \n",
       "2                                   [425854, 334129]  \n",
       "3  [919, 1867, 830, 1001, 722, 575, 860, 445, 629...  \n",
       "4                                   [686897, 360013]  "
      ]
     },
     "execution_count": 4,
     "metadata": {},
     "output_type": "execute_result"
    }
   ],
   "source": [
    "dfw2.head(5)"
   ]
  }
 ],
 "metadata": {
  "kernelspec": {
   "display_name": "Python 3",
   "language": "python",
   "name": "python3"
  },
  "language_info": {
   "codemirror_mode": {
    "name": "ipython",
    "version": 3
   },
   "file_extension": ".py",
   "mimetype": "text/x-python",
   "name": "python",
   "nbconvert_exporter": "python",
   "pygments_lexer": "ipython3",
   "version": "3.8.5"
  }
 },
 "nbformat": 4,
 "nbformat_minor": 4
}
